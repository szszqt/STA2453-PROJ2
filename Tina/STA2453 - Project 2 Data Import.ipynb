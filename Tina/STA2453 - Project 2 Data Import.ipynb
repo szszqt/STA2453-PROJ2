{
 "cells": [
  {
   "cell_type": "markdown",
   "metadata": {},
   "source": [
    "This dashboard illustrates some economic and financial aspects related to COVID-19. Economic indicators include. Financial indicators include S&P500 Index and S&P500 Index for different sectors. Furthermore, a more detailed trend is shown for the company with COVID19 vaccine. For example, the stock price for Pfizer."
   ]
  },
  {
   "cell_type": "markdown",
   "metadata": {},
   "source": [
    "Our target audience are: people who are interested in investing, who would like to get an overview on the market trend during COVID-19. Also, this visualization could help to reveal a better indication of the recovery phase after the pandemic by looking at both some economic indicators as well as relief of government policies."
   ]
  },
  {
   "cell_type": "code",
   "execution_count": 85,
   "metadata": {},
   "outputs": [],
   "source": [
    "# install yahoo finance and pandas datareader\n",
    "\n",
    "#!pip install yfinance --upgrade --no-cache-dir\n",
    "#!pip install pandas-datareader\n",
    "#!pip install requests \n",
    "#!pip install beautifulsoup4 \n",
    "#!pip install dash"
   ]
  },
  {
   "cell_type": "code",
   "execution_count": 115,
   "metadata": {},
   "outputs": [],
   "source": [
    "# library import\n",
    "import yfinance as yf\n",
    "from pandas_datareader import data as dt\n",
    "import numpy as np\n",
    "import pandas as pd\n",
    "import plotly.express as px\n",
    "#from bs4 import BeautifulSoup\n",
    "#import requests"
   ]
  },
  {
   "cell_type": "code",
   "execution_count": 37,
   "metadata": {},
   "outputs": [
    {
     "name": "stdout",
     "output_type": "stream",
     "text": [
      "[*********************100%***********************]  1 of 1 completed\n",
      "[*********************100%***********************]  1 of 1 completed\n",
      "[*********************100%***********************]  1 of 1 completed\n",
      "[*********************100%***********************]  1 of 1 completed\n",
      "[*********************100%***********************]  1 of 1 completed\n",
      "[*********************100%***********************]  1 of 1 completed\n",
      "[*********************100%***********************]  1 of 1 completed\n",
      "[*********************100%***********************]  1 of 1 completed\n",
      "[*********************100%***********************]  1 of 1 completed\n",
      "[*********************100%***********************]  1 of 1 completed\n",
      "[*********************100%***********************]  1 of 1 completed\n",
      "[*********************100%***********************]  1 of 1 completed\n"
     ]
    }
   ],
   "source": [
    "# Data 1: import stock market data - S&P and sectors ETF\n",
    "yf.pdr_override() \n",
    "\n",
    "# using different ETF to represents market indices by sector\n",
    "sectors = {'SPY': 'S&P500', 'XLK': 'Information Technology', 'XLY': 'Consumer Discretionary', 'XLB': 'Materials',\n",
    "           'XLC': 'Communication Services', 'XLV': 'Health Care', 'XLI': 'Industrials', 'XLP': 'Consumer Staples', \n",
    "           'XLF': 'Financial Services', 'XLU': 'Utilities', 'XLRE': 'Real Estate', 'XLE': 'Energy'}\n",
    "symbols = sectors.keys()\n",
    "data_source='google'\n",
    "start_date = '2019-01-01'\n",
    "end_date = '2020-12-31'\n",
    "\n",
    "appended_data = []\n",
    "for symbol in sectors:\n",
    "    data = dt.get_data_yahoo(symbol, start_date, end_date)\n",
    "    data['symbol'] = symbol\n",
    "    data['sector'] = sectors[symbol]\n",
    "    appended_data.append(data)\n",
    "SNP = pd.concat(appended_data)\n",
    "SNP.to_csv('SNP.csv')"
   ]
  },
  {
   "cell_type": "code",
   "execution_count": 112,
   "metadata": {},
   "outputs": [
    {
     "data": {
      "text/html": [
       "<div>\n",
       "<style scoped>\n",
       "    .dataframe tbody tr th:only-of-type {\n",
       "        vertical-align: middle;\n",
       "    }\n",
       "\n",
       "    .dataframe tbody tr th {\n",
       "        vertical-align: top;\n",
       "    }\n",
       "\n",
       "    .dataframe thead th {\n",
       "        text-align: right;\n",
       "    }\n",
       "</style>\n",
       "<table border=\"1\" class=\"dataframe\">\n",
       "  <thead>\n",
       "    <tr style=\"text-align: right;\">\n",
       "      <th></th>\n",
       "      <th>Sector</th>\n",
       "      <th>Percent</th>\n",
       "      <th>price_soy</th>\n",
       "      <th>price_eoy</th>\n",
       "      <th>change_yoy</th>\n",
       "      <th>price_max</th>\n",
       "      <th>price_min</th>\n",
       "      <th>drop_covid</th>\n",
       "    </tr>\n",
       "  </thead>\n",
       "  <tbody>\n",
       "    <tr>\n",
       "      <td>0</td>\n",
       "      <td>Information Technology</td>\n",
       "      <td>0.2748</td>\n",
       "      <td>93.389999</td>\n",
       "      <td>129.830002</td>\n",
       "      <td>0.390192</td>\n",
       "      <td>102.790001</td>\n",
       "      <td>70.400002</td>\n",
       "      <td>-0.315108</td>\n",
       "    </tr>\n",
       "    <tr>\n",
       "      <td>1</td>\n",
       "      <td>Health Care</td>\n",
       "      <td>0.1458</td>\n",
       "      <td>102.129997</td>\n",
       "      <td>112.260002</td>\n",
       "      <td>0.099187</td>\n",
       "      <td>104.730003</td>\n",
       "      <td>74.620003</td>\n",
       "      <td>-0.287501</td>\n",
       "    </tr>\n",
       "    <tr>\n",
       "      <td>2</td>\n",
       "      <td>Consumer Discretionary</td>\n",
       "      <td>0.1118</td>\n",
       "      <td>126.910004</td>\n",
       "      <td>160.690002</td>\n",
       "      <td>0.266173</td>\n",
       "      <td>132.320007</td>\n",
       "      <td>87.449997</td>\n",
       "      <td>-0.339102</td>\n",
       "    </tr>\n",
       "    <tr>\n",
       "      <td>3</td>\n",
       "      <td>Communication Services</td>\n",
       "      <td>0.1090</td>\n",
       "      <td>54.259998</td>\n",
       "      <td>66.940002</td>\n",
       "      <td>0.233690</td>\n",
       "      <td>57.580002</td>\n",
       "      <td>40.220001</td>\n",
       "      <td>-0.301494</td>\n",
       "    </tr>\n",
       "    <tr>\n",
       "      <td>4</td>\n",
       "      <td>Financial Services</td>\n",
       "      <td>0.0989</td>\n",
       "      <td>31.080000</td>\n",
       "      <td>29.120001</td>\n",
       "      <td>-0.063063</td>\n",
       "      <td>31.170000</td>\n",
       "      <td>17.660000</td>\n",
       "      <td>-0.433430</td>\n",
       "    </tr>\n",
       "    <tr>\n",
       "      <td>5</td>\n",
       "      <td>Industrials</td>\n",
       "      <td>0.0790</td>\n",
       "      <td>83.010002</td>\n",
       "      <td>88.139999</td>\n",
       "      <td>0.061800</td>\n",
       "      <td>85.230003</td>\n",
       "      <td>48.770000</td>\n",
       "      <td>-0.427784</td>\n",
       "    </tr>\n",
       "    <tr>\n",
       "      <td>6</td>\n",
       "      <td>Consumer Staples</td>\n",
       "      <td>0.0705</td>\n",
       "      <td>62.480000</td>\n",
       "      <td>66.980003</td>\n",
       "      <td>0.072023</td>\n",
       "      <td>64.790001</td>\n",
       "      <td>48.630001</td>\n",
       "      <td>-0.249421</td>\n",
       "    </tr>\n",
       "    <tr>\n",
       "      <td>7</td>\n",
       "      <td>Utilities</td>\n",
       "      <td>0.0313</td>\n",
       "      <td>63.810001</td>\n",
       "      <td>61.779999</td>\n",
       "      <td>-0.031813</td>\n",
       "      <td>70.980003</td>\n",
       "      <td>44.930000</td>\n",
       "      <td>-0.367005</td>\n",
       "    </tr>\n",
       "    <tr>\n",
       "      <td>8</td>\n",
       "      <td>Real Estate</td>\n",
       "      <td>0.0280</td>\n",
       "      <td>38.220001</td>\n",
       "      <td>36.119999</td>\n",
       "      <td>-0.054945</td>\n",
       "      <td>41.930000</td>\n",
       "      <td>25.459999</td>\n",
       "      <td>-0.392798</td>\n",
       "    </tr>\n",
       "    <tr>\n",
       "      <td>9</td>\n",
       "      <td>Materials</td>\n",
       "      <td>0.0256</td>\n",
       "      <td>60.700001</td>\n",
       "      <td>72.110001</td>\n",
       "      <td>0.187974</td>\n",
       "      <td>61.139999</td>\n",
       "      <td>38.349998</td>\n",
       "      <td>-0.372751</td>\n",
       "    </tr>\n",
       "    <tr>\n",
       "      <td>10</td>\n",
       "      <td>Energy</td>\n",
       "      <td>0.0253</td>\n",
       "      <td>60.580002</td>\n",
       "      <td>38.220001</td>\n",
       "      <td>-0.369099</td>\n",
       "      <td>60.869999</td>\n",
       "      <td>23.570000</td>\n",
       "      <td>-0.612781</td>\n",
       "    </tr>\n",
       "  </tbody>\n",
       "</table>\n",
       "</div>"
      ],
      "text/plain": [
       "                    Sector  Percent   price_soy   price_eoy  change_yoy  \\\n",
       "0   Information Technology   0.2748   93.389999  129.830002    0.390192   \n",
       "1              Health Care   0.1458  102.129997  112.260002    0.099187   \n",
       "2   Consumer Discretionary   0.1118  126.910004  160.690002    0.266173   \n",
       "3   Communication Services   0.1090   54.259998   66.940002    0.233690   \n",
       "4       Financial Services   0.0989   31.080000   29.120001   -0.063063   \n",
       "5              Industrials   0.0790   83.010002   88.139999    0.061800   \n",
       "6         Consumer Staples   0.0705   62.480000   66.980003    0.072023   \n",
       "7                Utilities   0.0313   63.810001   61.779999   -0.031813   \n",
       "8              Real Estate   0.0280   38.220001   36.119999   -0.054945   \n",
       "9                Materials   0.0256   60.700001   72.110001    0.187974   \n",
       "10                  Energy   0.0253   60.580002   38.220001   -0.369099   \n",
       "\n",
       "     price_max  price_min  drop_covid  \n",
       "0   102.790001  70.400002   -0.315108  \n",
       "1   104.730003  74.620003   -0.287501  \n",
       "2   132.320007  87.449997   -0.339102  \n",
       "3    57.580002  40.220001   -0.301494  \n",
       "4    31.170000  17.660000   -0.433430  \n",
       "5    85.230003  48.770000   -0.427784  \n",
       "6    64.790001  48.630001   -0.249421  \n",
       "7    70.980003  44.930000   -0.367005  \n",
       "8    41.930000  25.459999   -0.392798  \n",
       "9    61.139999  38.349998   -0.372751  \n",
       "10   60.869999  23.570000   -0.612781  "
      ]
     },
     "execution_count": 112,
     "metadata": {},
     "output_type": "execute_result"
    }
   ],
   "source": [
    "# Data 2: Market shares of different sectors\n",
    "# data source: https://advisor.visualcapitalist.com/sp-500-sectors-and-industries/\n",
    "# the website has forbidden server access, hence the data is manually pulled and stored in csv\n",
    "percent = pd.read_csv('percent_sector.csv')\n",
    "\n",
    "# prepare the YoY price change for the sector ETF\n",
    "# starting time: 2020-01-02\n",
    "# ending time: end of year 2020-12-30\n",
    "# drop during COVID: (min-max)/max price during 2020-01-01 - 2020-03-31\n",
    "snp_soy = SNP[SNP['Date'] == '2020-01-02']\n",
    "snp_eoy = SNP[SNP['Date'] == '2020-12-30']\n",
    "percent = percent.merge(snp_soy[['Close','sector']], how = 'left', left_on = 'Sector', right_on = 'sector')\n",
    "percent = percent.rename(columns={\"Close\": \"price_soy\"})\n",
    "percent = percent.merge(snp_eoy[['Close','sector']], how = 'left', left_on = 'Sector', right_on = 'sector')\n",
    "percent = percent.rename(columns={\"Close\": \"price_eoy\"})\n",
    "percent['change_yoy'] = (percent['price_eoy']-percent['price_soy'])/percent['price_soy']\n",
    "\n",
    "snp_covid = SNP.loc[(SNP['Date'] <= '2020-03-31') & (SNP['Date'] >= '2020-01-01')]\n",
    "snp_covid_max = snp_covid.groupby(['sector'], as_index=False).max()\n",
    "snp_covid_min = snp_covid.groupby(['sector'], as_index=False).min()\n",
    "percent = percent.merge(snp_covid_max[['Close','sector']], how = 'left', left_on = 'Sector', right_on = 'sector')\n",
    "percent = percent.rename(columns={\"Close\": \"price_max\"})\n",
    "percent = percent.merge(snp_covid_min[['Close','sector']], how = 'left', left_on = 'Sector', right_on = 'sector')\n",
    "percent = percent.rename(columns={\"Close\": \"price_min\"})\n",
    "percent['drop_covid'] = (percent['price_min']-percent['price_max'])/percent['price_max']\n",
    "\n",
    "percent = percent[['Sector', 'Percent', 'price_soy', 'price_eoy', 'change_yoy', 'price_max', 'price_min', 'drop_covid']]\n",
    "\n",
    "\n",
    "#percent['change_yoy_p'] = pd.Series([\"{0:.2f}%\".format(val*100) for val in percent['change_yoy']], index = percent.index)\n",
    "#percent['drop_covid_p'] = pd.Series([\"{0:.2f}%\".format(val*100) for val in percent['drop_covid']], index = percent.index)\n",
    "percent"
   ]
  },
  {
   "cell_type": "code",
   "execution_count": 56,
   "metadata": {},
   "outputs": [
    {
     "name": "stdout",
     "output_type": "stream",
     "text": [
      "[*********************100%***********************]  1 of 1 completed\n",
      "[*********************100%***********************]  1 of 1 completed\n",
      "[*********************100%***********************]  1 of 1 completed\n",
      "[*********************100%***********************]  1 of 1 completed\n",
      "[*********************100%***********************]  1 of 1 completed\n"
     ]
    }
   ],
   "source": [
    "# Data 3: AstraZeneca (AZN), Pfizer (PFE), Johnson & Johnson (JNJ), Moderna (MRNA), Novavax (NVAX) Stock price\n",
    "yf.pdr_override() \n",
    "\n",
    "companies = {'AZN': 'AstraZeneca', 'PFE': 'Pfizer', 'JNJ': 'Johnson & Johnson', 'MRNA': 'Moderna', 'NVAX': 'Novavax'}\n",
    "vaccine_symbols = companies.keys()\n",
    "data_source='google'\n",
    "start_date = '2019-01-01'\n",
    "end_date = '2020-12-31'\n",
    "\n",
    "vaccine = []\n",
    "for symbol in companies:\n",
    "    data = dt.get_data_yahoo(symbol, start_date, end_date)\n",
    "    data['symbol'] = symbol\n",
    "    data['sector'] = companies[symbol]\n",
    "    vaccine.append(data)\n",
    "vaccine_stock = pd.concat(vaccine)\n",
    "vaccine_stock.to_csv('vaccine_stock.csv')"
   ]
  },
  {
   "cell_type": "code",
   "execution_count": 126,
   "metadata": {},
   "outputs": [
    {
     "name": "stderr",
     "output_type": "stream",
     "text": [
      "C:\\Users\\tiger\\Anaconda3\\lib\\site-packages\\ipykernel_launcher.py:21: SettingWithCopyWarning:\n",
      "\n",
      "\n",
      "A value is trying to be set on a copy of a slice from a DataFrame.\n",
      "Try using .loc[row_indexer,col_indexer] = value instead\n",
      "\n",
      "See the caveats in the documentation: http://pandas.pydata.org/pandas-docs/stable/user_guide/indexing.html#returning-a-view-versus-a-copy\n",
      "\n",
      "C:\\Users\\tiger\\Anaconda3\\lib\\site-packages\\ipykernel_launcher.py:22: SettingWithCopyWarning:\n",
      "\n",
      "\n",
      "A value is trying to be set on a copy of a slice from a DataFrame.\n",
      "Try using .loc[row_indexer,col_indexer] = value instead\n",
      "\n",
      "See the caveats in the documentation: http://pandas.pydata.org/pandas-docs/stable/user_guide/indexing.html#returning-a-view-versus-a-copy\n",
      "\n"
     ]
    },
    {
     "data": {
      "text/html": [
       "<div>\n",
       "<style scoped>\n",
       "    .dataframe tbody tr th:only-of-type {\n",
       "        vertical-align: middle;\n",
       "    }\n",
       "\n",
       "    .dataframe tbody tr th {\n",
       "        vertical-align: top;\n",
       "    }\n",
       "\n",
       "    .dataframe thead th {\n",
       "        text-align: right;\n",
       "    }\n",
       "</style>\n",
       "<table border=\"1\" class=\"dataframe\">\n",
       "  <thead>\n",
       "    <tr style=\"text-align: right;\">\n",
       "      <th></th>\n",
       "      <th>brand</th>\n",
       "      <th>doses</th>\n",
       "    </tr>\n",
       "  </thead>\n",
       "  <tbody>\n",
       "    <tr>\n",
       "      <td>0</td>\n",
       "      <td>AstraZeneca</td>\n",
       "      <td>2.768200e+09</td>\n",
       "    </tr>\n",
       "    <tr>\n",
       "      <td>1</td>\n",
       "      <td>Johnson &amp; Johnson</td>\n",
       "      <td>8.780000e+08</td>\n",
       "    </tr>\n",
       "    <tr>\n",
       "      <td>2</td>\n",
       "      <td>Moderna</td>\n",
       "      <td>4.905000e+08</td>\n",
       "    </tr>\n",
       "    <tr>\n",
       "      <td>3</td>\n",
       "      <td>Novavax</td>\n",
       "      <td>1.337700e+09</td>\n",
       "    </tr>\n",
       "    <tr>\n",
       "      <td>4</td>\n",
       "      <td>Other</td>\n",
       "      <td>2.182000e+09</td>\n",
       "    </tr>\n",
       "  </tbody>\n",
       "</table>\n",
       "</div>"
      ],
      "text/plain": [
       "               brand         doses\n",
       "0        AstraZeneca  2.768200e+09\n",
       "1  Johnson & Johnson  8.780000e+08\n",
       "2            Moderna  4.905000e+08\n",
       "3            Novavax  1.337700e+09\n",
       "4              Other  2.182000e+09"
      ]
     },
     "execution_count": 126,
     "metadata": {},
     "output_type": "execute_result"
    }
   ],
   "source": [
    "# Data 4. Vaccine order data\n",
    "# data source: https://launchandscalefaster.org/covid-19#Interactive%20tables%20and%20charts%20-%20COVID-19%20Vaccine%20Advance%20Market%20Commitments\n",
    "# by looking at the html, found the source public Tableau dashboard and download the data from there\n",
    "# Tableau view: https://public.tableau.com/views/COVID-19VaccinePurchase_16099487574570/TotalConfirmedDosesbyCountryandVaccineCandidate?:embed=y&:showVizHome=no&:host_url=https%3A%2F%2Fpublic.tableau.com%2F&:embed_code_version=3&:tabs=yes&:toolbar=yes&:animate_transition=yes&:display_static_image=no&:display_spinner=no&:display_overlay=yes&:display_count=yes&:language=en&publish=yes&:loadOrderID=1\n",
    "\n",
    "vaccine_purchase_all = pd.read_csv('purchasing_deals.csv')\n",
    "vaccine_purchase = vaccine_purchase_all[['Company','Partners','Purchaser Entity / Country', \"Purchaser's country Economic  Status\",\n",
    "                                         'Number of Doses Procured']]\n",
    "\n",
    "conditions = [\n",
    "    (vaccine_purchase['Partners'] == 'AstraZeneca'),\n",
    "    (vaccine_purchase['Company'] == 'Pfizer'),\n",
    "    (vaccine_purchase['Company'] == 'Moderna'),\n",
    "    (vaccine_purchase['Company'] == 'Janssen (J&J)'),\n",
    "    (vaccine_purchase['Company'] == 'Novavax')\n",
    "    ]\n",
    "\n",
    "values_stock = ['AZN', 'PFE', 'MARNA', 'JNJ', 'NVAX']\n",
    "values_brand = ['AstraZeneca', 'Pfizer', 'Moderna', 'Johnson & Johnson', 'Novavax']\n",
    "\n",
    "vaccine_purchase['stock'] = np.select(conditions, values_stock, default='Other')\n",
    "vaccine_purchase['brand'] = np.select(conditions, values_brand, default='Other')\n",
    "\n",
    "vaccine_purchase = vaccine_purchase.rename(columns={'Purchaser Entity / Country': \"country\", \n",
    "                                                    \"Purchaser's country Economic  Status\": \"economic status\",\n",
    "                                                    \"Number of Doses Procured\": \"doses\"})\n",
    "\n",
    "\n",
    "vaccine_country = vaccine_purchase.groupby('country', as_index=False).sum()\n",
    "vaccine_brand = vaccine_purchase.groupby('brand', as_index=False).sum()\n",
    "vaccine_brand.head()"
   ]
  },
  {
   "cell_type": "code",
   "execution_count": null,
   "metadata": {},
   "outputs": [],
   "source": [
    "# GDP for US and Canada - shaded line graph by quarter"
   ]
  },
  {
   "cell_type": "code",
   "execution_count": null,
   "metadata": {},
   "outputs": [],
   "source": [
    "# line graphs of different sectors during COVID"
   ]
  },
  {
   "cell_type": "code",
   "execution_count": 84,
   "metadata": {},
   "outputs": [
    {
     "data": {
      "application/vnd.plotly.v1+json": {
       "config": {
        "plotlyServerURL": "https://plot.ly"
       },
       "data": [
        {
         "branchvalues": "total",
         "customdata": [
          [
           -0.30149357517020375
          ],
          [
           -0.3391022361874065
          ],
          [
           -0.24942120109677707
          ],
          [
           -0.6127813354950161
          ],
          [
           -0.433429586006217
          ],
          [
           -0.2875011901578264
          ],
          [
           -0.42778366142354307
          ],
          [
           -0.3151084648424752
          ],
          [
           -0.37275108182918787
          ],
          [
           -0.39279754592966437
          ],
          [
           -0.36700481571917465
          ]
         ],
         "domain": {
          "x": [
           0,
           1
          ],
          "y": [
           0,
           1
          ]
         },
         "hoverlabel": {
          "namelength": 0
         },
         "hovertemplate": "drop_covid=%{color}<br>labels=%{label}<br>Percent=%{value}<br>parent=%{parent}<br>id=%{id}",
         "ids": [
          "Communication Services",
          "Consumer Discretionary",
          "Consumer Staples",
          "Energy",
          "Financial Services",
          "Health Care",
          "Industrials",
          "Information Technology",
          "Materials",
          "Real Estate",
          "Utilities"
         ],
         "labels": [
          "Communication Services",
          "Consumer Discretionary",
          "Consumer Staples",
          "Energy",
          "Financial Services",
          "Health Care",
          "Industrials",
          "Information Technology",
          "Materials",
          "Real Estate",
          "Utilities"
         ],
         "marker": {
          "coloraxis": "coloraxis",
          "colors": [
           -0.30149357517020375,
           -0.3391022361874065,
           -0.24942120109677707,
           -0.6127813354950161,
           -0.433429586006217,
           -0.2875011901578264,
           -0.42778366142354307,
           -0.3151084648424752,
           -0.37275108182918787,
           -0.39279754592966437,
           -0.36700481571917465
          ]
         },
         "name": "",
         "parents": [
          "",
          "",
          "",
          "",
          "",
          "",
          "",
          "",
          "",
          "",
          ""
         ],
         "type": "treemap",
         "values": [
          0.109,
          0.1118,
          0.0705,
          0.0253,
          0.0989,
          0.1458,
          0.079,
          0.2748,
          0.0256,
          0.028,
          0.0313
         ]
        }
       ],
       "layout": {
        "coloraxis": {
         "colorbar": {
          "title": {
           "text": "drop_covid"
          }
         },
         "colorscale": [
          [
           0,
           "#0d0887"
          ],
          [
           0.1111111111111111,
           "#46039f"
          ],
          [
           0.2222222222222222,
           "#7201a8"
          ],
          [
           0.3333333333333333,
           "#9c179e"
          ],
          [
           0.4444444444444444,
           "#bd3786"
          ],
          [
           0.5555555555555556,
           "#d8576b"
          ],
          [
           0.6666666666666666,
           "#ed7953"
          ],
          [
           0.7777777777777778,
           "#fb9f3a"
          ],
          [
           0.8888888888888888,
           "#fdca26"
          ],
          [
           1,
           "#f0f921"
          ]
         ]
        },
        "legend": {
         "tracegroupgap": 0
        },
        "margin": {
         "t": 60
        },
        "template": {
         "data": {
          "bar": [
           {
            "error_x": {
             "color": "#2a3f5f"
            },
            "error_y": {
             "color": "#2a3f5f"
            },
            "marker": {
             "line": {
              "color": "#E5ECF6",
              "width": 0.5
             }
            },
            "type": "bar"
           }
          ],
          "barpolar": [
           {
            "marker": {
             "line": {
              "color": "#E5ECF6",
              "width": 0.5
             }
            },
            "type": "barpolar"
           }
          ],
          "carpet": [
           {
            "aaxis": {
             "endlinecolor": "#2a3f5f",
             "gridcolor": "white",
             "linecolor": "white",
             "minorgridcolor": "white",
             "startlinecolor": "#2a3f5f"
            },
            "baxis": {
             "endlinecolor": "#2a3f5f",
             "gridcolor": "white",
             "linecolor": "white",
             "minorgridcolor": "white",
             "startlinecolor": "#2a3f5f"
            },
            "type": "carpet"
           }
          ],
          "choropleth": [
           {
            "colorbar": {
             "outlinewidth": 0,
             "ticks": ""
            },
            "type": "choropleth"
           }
          ],
          "contour": [
           {
            "colorbar": {
             "outlinewidth": 0,
             "ticks": ""
            },
            "colorscale": [
             [
              0,
              "#0d0887"
             ],
             [
              0.1111111111111111,
              "#46039f"
             ],
             [
              0.2222222222222222,
              "#7201a8"
             ],
             [
              0.3333333333333333,
              "#9c179e"
             ],
             [
              0.4444444444444444,
              "#bd3786"
             ],
             [
              0.5555555555555556,
              "#d8576b"
             ],
             [
              0.6666666666666666,
              "#ed7953"
             ],
             [
              0.7777777777777778,
              "#fb9f3a"
             ],
             [
              0.8888888888888888,
              "#fdca26"
             ],
             [
              1,
              "#f0f921"
             ]
            ],
            "type": "contour"
           }
          ],
          "contourcarpet": [
           {
            "colorbar": {
             "outlinewidth": 0,
             "ticks": ""
            },
            "type": "contourcarpet"
           }
          ],
          "heatmap": [
           {
            "colorbar": {
             "outlinewidth": 0,
             "ticks": ""
            },
            "colorscale": [
             [
              0,
              "#0d0887"
             ],
             [
              0.1111111111111111,
              "#46039f"
             ],
             [
              0.2222222222222222,
              "#7201a8"
             ],
             [
              0.3333333333333333,
              "#9c179e"
             ],
             [
              0.4444444444444444,
              "#bd3786"
             ],
             [
              0.5555555555555556,
              "#d8576b"
             ],
             [
              0.6666666666666666,
              "#ed7953"
             ],
             [
              0.7777777777777778,
              "#fb9f3a"
             ],
             [
              0.8888888888888888,
              "#fdca26"
             ],
             [
              1,
              "#f0f921"
             ]
            ],
            "type": "heatmap"
           }
          ],
          "heatmapgl": [
           {
            "colorbar": {
             "outlinewidth": 0,
             "ticks": ""
            },
            "colorscale": [
             [
              0,
              "#0d0887"
             ],
             [
              0.1111111111111111,
              "#46039f"
             ],
             [
              0.2222222222222222,
              "#7201a8"
             ],
             [
              0.3333333333333333,
              "#9c179e"
             ],
             [
              0.4444444444444444,
              "#bd3786"
             ],
             [
              0.5555555555555556,
              "#d8576b"
             ],
             [
              0.6666666666666666,
              "#ed7953"
             ],
             [
              0.7777777777777778,
              "#fb9f3a"
             ],
             [
              0.8888888888888888,
              "#fdca26"
             ],
             [
              1,
              "#f0f921"
             ]
            ],
            "type": "heatmapgl"
           }
          ],
          "histogram": [
           {
            "marker": {
             "colorbar": {
              "outlinewidth": 0,
              "ticks": ""
             }
            },
            "type": "histogram"
           }
          ],
          "histogram2d": [
           {
            "colorbar": {
             "outlinewidth": 0,
             "ticks": ""
            },
            "colorscale": [
             [
              0,
              "#0d0887"
             ],
             [
              0.1111111111111111,
              "#46039f"
             ],
             [
              0.2222222222222222,
              "#7201a8"
             ],
             [
              0.3333333333333333,
              "#9c179e"
             ],
             [
              0.4444444444444444,
              "#bd3786"
             ],
             [
              0.5555555555555556,
              "#d8576b"
             ],
             [
              0.6666666666666666,
              "#ed7953"
             ],
             [
              0.7777777777777778,
              "#fb9f3a"
             ],
             [
              0.8888888888888888,
              "#fdca26"
             ],
             [
              1,
              "#f0f921"
             ]
            ],
            "type": "histogram2d"
           }
          ],
          "histogram2dcontour": [
           {
            "colorbar": {
             "outlinewidth": 0,
             "ticks": ""
            },
            "colorscale": [
             [
              0,
              "#0d0887"
             ],
             [
              0.1111111111111111,
              "#46039f"
             ],
             [
              0.2222222222222222,
              "#7201a8"
             ],
             [
              0.3333333333333333,
              "#9c179e"
             ],
             [
              0.4444444444444444,
              "#bd3786"
             ],
             [
              0.5555555555555556,
              "#d8576b"
             ],
             [
              0.6666666666666666,
              "#ed7953"
             ],
             [
              0.7777777777777778,
              "#fb9f3a"
             ],
             [
              0.8888888888888888,
              "#fdca26"
             ],
             [
              1,
              "#f0f921"
             ]
            ],
            "type": "histogram2dcontour"
           }
          ],
          "mesh3d": [
           {
            "colorbar": {
             "outlinewidth": 0,
             "ticks": ""
            },
            "type": "mesh3d"
           }
          ],
          "parcoords": [
           {
            "line": {
             "colorbar": {
              "outlinewidth": 0,
              "ticks": ""
             }
            },
            "type": "parcoords"
           }
          ],
          "pie": [
           {
            "automargin": true,
            "type": "pie"
           }
          ],
          "scatter": [
           {
            "marker": {
             "colorbar": {
              "outlinewidth": 0,
              "ticks": ""
             }
            },
            "type": "scatter"
           }
          ],
          "scatter3d": [
           {
            "line": {
             "colorbar": {
              "outlinewidth": 0,
              "ticks": ""
             }
            },
            "marker": {
             "colorbar": {
              "outlinewidth": 0,
              "ticks": ""
             }
            },
            "type": "scatter3d"
           }
          ],
          "scattercarpet": [
           {
            "marker": {
             "colorbar": {
              "outlinewidth": 0,
              "ticks": ""
             }
            },
            "type": "scattercarpet"
           }
          ],
          "scattergeo": [
           {
            "marker": {
             "colorbar": {
              "outlinewidth": 0,
              "ticks": ""
             }
            },
            "type": "scattergeo"
           }
          ],
          "scattergl": [
           {
            "marker": {
             "colorbar": {
              "outlinewidth": 0,
              "ticks": ""
             }
            },
            "type": "scattergl"
           }
          ],
          "scattermapbox": [
           {
            "marker": {
             "colorbar": {
              "outlinewidth": 0,
              "ticks": ""
             }
            },
            "type": "scattermapbox"
           }
          ],
          "scatterpolar": [
           {
            "marker": {
             "colorbar": {
              "outlinewidth": 0,
              "ticks": ""
             }
            },
            "type": "scatterpolar"
           }
          ],
          "scatterpolargl": [
           {
            "marker": {
             "colorbar": {
              "outlinewidth": 0,
              "ticks": ""
             }
            },
            "type": "scatterpolargl"
           }
          ],
          "scatterternary": [
           {
            "marker": {
             "colorbar": {
              "outlinewidth": 0,
              "ticks": ""
             }
            },
            "type": "scatterternary"
           }
          ],
          "surface": [
           {
            "colorbar": {
             "outlinewidth": 0,
             "ticks": ""
            },
            "colorscale": [
             [
              0,
              "#0d0887"
             ],
             [
              0.1111111111111111,
              "#46039f"
             ],
             [
              0.2222222222222222,
              "#7201a8"
             ],
             [
              0.3333333333333333,
              "#9c179e"
             ],
             [
              0.4444444444444444,
              "#bd3786"
             ],
             [
              0.5555555555555556,
              "#d8576b"
             ],
             [
              0.6666666666666666,
              "#ed7953"
             ],
             [
              0.7777777777777778,
              "#fb9f3a"
             ],
             [
              0.8888888888888888,
              "#fdca26"
             ],
             [
              1,
              "#f0f921"
             ]
            ],
            "type": "surface"
           }
          ],
          "table": [
           {
            "cells": {
             "fill": {
              "color": "#EBF0F8"
             },
             "line": {
              "color": "white"
             }
            },
            "header": {
             "fill": {
              "color": "#C8D4E3"
             },
             "line": {
              "color": "white"
             }
            },
            "type": "table"
           }
          ]
         },
         "layout": {
          "annotationdefaults": {
           "arrowcolor": "#2a3f5f",
           "arrowhead": 0,
           "arrowwidth": 1
          },
          "coloraxis": {
           "colorbar": {
            "outlinewidth": 0,
            "ticks": ""
           }
          },
          "colorscale": {
           "diverging": [
            [
             0,
             "#8e0152"
            ],
            [
             0.1,
             "#c51b7d"
            ],
            [
             0.2,
             "#de77ae"
            ],
            [
             0.3,
             "#f1b6da"
            ],
            [
             0.4,
             "#fde0ef"
            ],
            [
             0.5,
             "#f7f7f7"
            ],
            [
             0.6,
             "#e6f5d0"
            ],
            [
             0.7,
             "#b8e186"
            ],
            [
             0.8,
             "#7fbc41"
            ],
            [
             0.9,
             "#4d9221"
            ],
            [
             1,
             "#276419"
            ]
           ],
           "sequential": [
            [
             0,
             "#0d0887"
            ],
            [
             0.1111111111111111,
             "#46039f"
            ],
            [
             0.2222222222222222,
             "#7201a8"
            ],
            [
             0.3333333333333333,
             "#9c179e"
            ],
            [
             0.4444444444444444,
             "#bd3786"
            ],
            [
             0.5555555555555556,
             "#d8576b"
            ],
            [
             0.6666666666666666,
             "#ed7953"
            ],
            [
             0.7777777777777778,
             "#fb9f3a"
            ],
            [
             0.8888888888888888,
             "#fdca26"
            ],
            [
             1,
             "#f0f921"
            ]
           ],
           "sequentialminus": [
            [
             0,
             "#0d0887"
            ],
            [
             0.1111111111111111,
             "#46039f"
            ],
            [
             0.2222222222222222,
             "#7201a8"
            ],
            [
             0.3333333333333333,
             "#9c179e"
            ],
            [
             0.4444444444444444,
             "#bd3786"
            ],
            [
             0.5555555555555556,
             "#d8576b"
            ],
            [
             0.6666666666666666,
             "#ed7953"
            ],
            [
             0.7777777777777778,
             "#fb9f3a"
            ],
            [
             0.8888888888888888,
             "#fdca26"
            ],
            [
             1,
             "#f0f921"
            ]
           ]
          },
          "colorway": [
           "#636efa",
           "#EF553B",
           "#00cc96",
           "#ab63fa",
           "#FFA15A",
           "#19d3f3",
           "#FF6692",
           "#B6E880",
           "#FF97FF",
           "#FECB52"
          ],
          "font": {
           "color": "#2a3f5f"
          },
          "geo": {
           "bgcolor": "white",
           "lakecolor": "white",
           "landcolor": "#E5ECF6",
           "showlakes": true,
           "showland": true,
           "subunitcolor": "white"
          },
          "hoverlabel": {
           "align": "left"
          },
          "hovermode": "closest",
          "mapbox": {
           "style": "light"
          },
          "paper_bgcolor": "white",
          "plot_bgcolor": "#E5ECF6",
          "polar": {
           "angularaxis": {
            "gridcolor": "white",
            "linecolor": "white",
            "ticks": ""
           },
           "bgcolor": "#E5ECF6",
           "radialaxis": {
            "gridcolor": "white",
            "linecolor": "white",
            "ticks": ""
           }
          },
          "scene": {
           "xaxis": {
            "backgroundcolor": "#E5ECF6",
            "gridcolor": "white",
            "gridwidth": 2,
            "linecolor": "white",
            "showbackground": true,
            "ticks": "",
            "zerolinecolor": "white"
           },
           "yaxis": {
            "backgroundcolor": "#E5ECF6",
            "gridcolor": "white",
            "gridwidth": 2,
            "linecolor": "white",
            "showbackground": true,
            "ticks": "",
            "zerolinecolor": "white"
           },
           "zaxis": {
            "backgroundcolor": "#E5ECF6",
            "gridcolor": "white",
            "gridwidth": 2,
            "linecolor": "white",
            "showbackground": true,
            "ticks": "",
            "zerolinecolor": "white"
           }
          },
          "shapedefaults": {
           "line": {
            "color": "#2a3f5f"
           }
          },
          "ternary": {
           "aaxis": {
            "gridcolor": "white",
            "linecolor": "white",
            "ticks": ""
           },
           "baxis": {
            "gridcolor": "white",
            "linecolor": "white",
            "ticks": ""
           },
           "bgcolor": "#E5ECF6",
           "caxis": {
            "gridcolor": "white",
            "linecolor": "white",
            "ticks": ""
           }
          },
          "title": {
           "x": 0.05
          },
          "xaxis": {
           "automargin": true,
           "gridcolor": "white",
           "linecolor": "white",
           "ticks": "",
           "title": {
            "standoff": 15
           },
           "zerolinecolor": "white",
           "zerolinewidth": 2
          },
          "yaxis": {
           "automargin": true,
           "gridcolor": "white",
           "linecolor": "white",
           "ticks": "",
           "title": {
            "standoff": 15
           },
           "zerolinecolor": "white",
           "zerolinewidth": 2
          }
         }
        }
       }
      },
      "text/html": [
       "<div>\n",
       "        \n",
       "        \n",
       "            <div id=\"3562e8fc-c986-4cb0-b95c-71c2a49b23c5\" class=\"plotly-graph-div\" style=\"height:525px; width:100%;\"></div>\n",
       "            <script type=\"text/javascript\">\n",
       "                require([\"plotly\"], function(Plotly) {\n",
       "                    window.PLOTLYENV=window.PLOTLYENV || {};\n",
       "                    \n",
       "                if (document.getElementById(\"3562e8fc-c986-4cb0-b95c-71c2a49b23c5\")) {\n",
       "                    Plotly.newPlot(\n",
       "                        '3562e8fc-c986-4cb0-b95c-71c2a49b23c5',\n",
       "                        [{\"branchvalues\": \"total\", \"customdata\": [[-0.30149357517020375], [-0.3391022361874065], [-0.24942120109677707], [-0.6127813354950161], [-0.433429586006217], [-0.2875011901578264], [-0.42778366142354307], [-0.3151084648424752], [-0.37275108182918787], [-0.39279754592966437], [-0.36700481571917465]], \"domain\": {\"x\": [0.0, 1.0], \"y\": [0.0, 1.0]}, \"hoverlabel\": {\"namelength\": 0}, \"hovertemplate\": \"drop_covid=%{color}<br>labels=%{label}<br>Percent=%{value}<br>parent=%{parent}<br>id=%{id}\", \"ids\": [\"Communication Services\", \"Consumer Discretionary\", \"Consumer Staples\", \"Energy\", \"Financial Services\", \"Health Care\", \"Industrials\", \"Information Technology\", \"Materials\", \"Real Estate\", \"Utilities\"], \"labels\": [\"Communication Services\", \"Consumer Discretionary\", \"Consumer Staples\", \"Energy\", \"Financial Services\", \"Health Care\", \"Industrials\", \"Information Technology\", \"Materials\", \"Real Estate\", \"Utilities\"], \"marker\": {\"coloraxis\": \"coloraxis\", \"colors\": [-0.30149357517020375, -0.3391022361874065, -0.24942120109677707, -0.6127813354950161, -0.433429586006217, -0.2875011901578264, -0.42778366142354307, -0.3151084648424752, -0.37275108182918787, -0.39279754592966437, -0.36700481571917465]}, \"name\": \"\", \"parents\": [\"\", \"\", \"\", \"\", \"\", \"\", \"\", \"\", \"\", \"\", \"\"], \"type\": \"treemap\", \"values\": [0.109, 0.1118, 0.0705, 0.0253, 0.0989, 0.1458, 0.079, 0.2748, 0.0256, 0.028, 0.0313]}],\n",
       "                        {\"coloraxis\": {\"colorbar\": {\"title\": {\"text\": \"drop_covid\"}}, \"colorscale\": [[0.0, \"#0d0887\"], [0.1111111111111111, \"#46039f\"], [0.2222222222222222, \"#7201a8\"], [0.3333333333333333, \"#9c179e\"], [0.4444444444444444, \"#bd3786\"], [0.5555555555555556, \"#d8576b\"], [0.6666666666666666, \"#ed7953\"], [0.7777777777777778, \"#fb9f3a\"], [0.8888888888888888, \"#fdca26\"], [1.0, \"#f0f921\"]]}, \"legend\": {\"tracegroupgap\": 0}, \"margin\": {\"t\": 60}, \"template\": {\"data\": {\"bar\": [{\"error_x\": {\"color\": \"#2a3f5f\"}, \"error_y\": {\"color\": \"#2a3f5f\"}, \"marker\": {\"line\": {\"color\": \"#E5ECF6\", \"width\": 0.5}}, \"type\": \"bar\"}], \"barpolar\": [{\"marker\": {\"line\": {\"color\": \"#E5ECF6\", \"width\": 0.5}}, \"type\": \"barpolar\"}], \"carpet\": [{\"aaxis\": {\"endlinecolor\": \"#2a3f5f\", \"gridcolor\": \"white\", \"linecolor\": \"white\", \"minorgridcolor\": \"white\", \"startlinecolor\": \"#2a3f5f\"}, \"baxis\": {\"endlinecolor\": \"#2a3f5f\", \"gridcolor\": \"white\", \"linecolor\": \"white\", \"minorgridcolor\": \"white\", \"startlinecolor\": \"#2a3f5f\"}, \"type\": \"carpet\"}], \"choropleth\": [{\"colorbar\": {\"outlinewidth\": 0, \"ticks\": \"\"}, \"type\": \"choropleth\"}], \"contour\": [{\"colorbar\": {\"outlinewidth\": 0, \"ticks\": \"\"}, \"colorscale\": [[0.0, \"#0d0887\"], [0.1111111111111111, \"#46039f\"], [0.2222222222222222, \"#7201a8\"], [0.3333333333333333, \"#9c179e\"], [0.4444444444444444, \"#bd3786\"], [0.5555555555555556, \"#d8576b\"], [0.6666666666666666, \"#ed7953\"], [0.7777777777777778, \"#fb9f3a\"], [0.8888888888888888, \"#fdca26\"], [1.0, \"#f0f921\"]], \"type\": \"contour\"}], \"contourcarpet\": [{\"colorbar\": {\"outlinewidth\": 0, \"ticks\": \"\"}, \"type\": \"contourcarpet\"}], \"heatmap\": [{\"colorbar\": {\"outlinewidth\": 0, \"ticks\": \"\"}, \"colorscale\": [[0.0, \"#0d0887\"], [0.1111111111111111, \"#46039f\"], [0.2222222222222222, \"#7201a8\"], [0.3333333333333333, \"#9c179e\"], [0.4444444444444444, \"#bd3786\"], [0.5555555555555556, \"#d8576b\"], [0.6666666666666666, \"#ed7953\"], [0.7777777777777778, \"#fb9f3a\"], [0.8888888888888888, \"#fdca26\"], [1.0, \"#f0f921\"]], \"type\": \"heatmap\"}], \"heatmapgl\": [{\"colorbar\": {\"outlinewidth\": 0, \"ticks\": \"\"}, \"colorscale\": [[0.0, \"#0d0887\"], [0.1111111111111111, \"#46039f\"], [0.2222222222222222, \"#7201a8\"], [0.3333333333333333, \"#9c179e\"], [0.4444444444444444, \"#bd3786\"], [0.5555555555555556, \"#d8576b\"], [0.6666666666666666, \"#ed7953\"], [0.7777777777777778, \"#fb9f3a\"], [0.8888888888888888, \"#fdca26\"], [1.0, \"#f0f921\"]], \"type\": \"heatmapgl\"}], \"histogram\": [{\"marker\": {\"colorbar\": {\"outlinewidth\": 0, \"ticks\": \"\"}}, \"type\": \"histogram\"}], \"histogram2d\": [{\"colorbar\": {\"outlinewidth\": 0, \"ticks\": \"\"}, \"colorscale\": [[0.0, \"#0d0887\"], [0.1111111111111111, \"#46039f\"], [0.2222222222222222, \"#7201a8\"], [0.3333333333333333, \"#9c179e\"], [0.4444444444444444, \"#bd3786\"], [0.5555555555555556, \"#d8576b\"], [0.6666666666666666, \"#ed7953\"], [0.7777777777777778, \"#fb9f3a\"], [0.8888888888888888, \"#fdca26\"], [1.0, \"#f0f921\"]], \"type\": \"histogram2d\"}], \"histogram2dcontour\": [{\"colorbar\": {\"outlinewidth\": 0, \"ticks\": \"\"}, \"colorscale\": [[0.0, \"#0d0887\"], [0.1111111111111111, \"#46039f\"], [0.2222222222222222, \"#7201a8\"], [0.3333333333333333, \"#9c179e\"], [0.4444444444444444, \"#bd3786\"], [0.5555555555555556, \"#d8576b\"], [0.6666666666666666, \"#ed7953\"], [0.7777777777777778, \"#fb9f3a\"], [0.8888888888888888, \"#fdca26\"], [1.0, \"#f0f921\"]], \"type\": \"histogram2dcontour\"}], \"mesh3d\": [{\"colorbar\": {\"outlinewidth\": 0, \"ticks\": \"\"}, \"type\": \"mesh3d\"}], \"parcoords\": [{\"line\": {\"colorbar\": {\"outlinewidth\": 0, \"ticks\": \"\"}}, \"type\": \"parcoords\"}], \"pie\": [{\"automargin\": true, \"type\": \"pie\"}], \"scatter\": [{\"marker\": {\"colorbar\": {\"outlinewidth\": 0, \"ticks\": \"\"}}, \"type\": \"scatter\"}], \"scatter3d\": [{\"line\": {\"colorbar\": {\"outlinewidth\": 0, \"ticks\": \"\"}}, \"marker\": {\"colorbar\": {\"outlinewidth\": 0, \"ticks\": \"\"}}, \"type\": \"scatter3d\"}], \"scattercarpet\": [{\"marker\": {\"colorbar\": {\"outlinewidth\": 0, \"ticks\": \"\"}}, \"type\": \"scattercarpet\"}], \"scattergeo\": [{\"marker\": {\"colorbar\": {\"outlinewidth\": 0, \"ticks\": \"\"}}, \"type\": \"scattergeo\"}], \"scattergl\": [{\"marker\": {\"colorbar\": {\"outlinewidth\": 0, \"ticks\": \"\"}}, \"type\": \"scattergl\"}], \"scattermapbox\": [{\"marker\": {\"colorbar\": {\"outlinewidth\": 0, \"ticks\": \"\"}}, \"type\": \"scattermapbox\"}], \"scatterpolar\": [{\"marker\": {\"colorbar\": {\"outlinewidth\": 0, \"ticks\": \"\"}}, \"type\": \"scatterpolar\"}], \"scatterpolargl\": [{\"marker\": {\"colorbar\": {\"outlinewidth\": 0, \"ticks\": \"\"}}, \"type\": \"scatterpolargl\"}], \"scatterternary\": [{\"marker\": {\"colorbar\": {\"outlinewidth\": 0, \"ticks\": \"\"}}, \"type\": \"scatterternary\"}], \"surface\": [{\"colorbar\": {\"outlinewidth\": 0, \"ticks\": \"\"}, \"colorscale\": [[0.0, \"#0d0887\"], [0.1111111111111111, \"#46039f\"], [0.2222222222222222, \"#7201a8\"], [0.3333333333333333, \"#9c179e\"], [0.4444444444444444, \"#bd3786\"], [0.5555555555555556, \"#d8576b\"], [0.6666666666666666, \"#ed7953\"], [0.7777777777777778, \"#fb9f3a\"], [0.8888888888888888, \"#fdca26\"], [1.0, \"#f0f921\"]], \"type\": \"surface\"}], \"table\": [{\"cells\": {\"fill\": {\"color\": \"#EBF0F8\"}, \"line\": {\"color\": \"white\"}}, \"header\": {\"fill\": {\"color\": \"#C8D4E3\"}, \"line\": {\"color\": \"white\"}}, \"type\": \"table\"}]}, \"layout\": {\"annotationdefaults\": {\"arrowcolor\": \"#2a3f5f\", \"arrowhead\": 0, \"arrowwidth\": 1}, \"coloraxis\": {\"colorbar\": {\"outlinewidth\": 0, \"ticks\": \"\"}}, \"colorscale\": {\"diverging\": [[0, \"#8e0152\"], [0.1, \"#c51b7d\"], [0.2, \"#de77ae\"], [0.3, \"#f1b6da\"], [0.4, \"#fde0ef\"], [0.5, \"#f7f7f7\"], [0.6, \"#e6f5d0\"], [0.7, \"#b8e186\"], [0.8, \"#7fbc41\"], [0.9, \"#4d9221\"], [1, \"#276419\"]], \"sequential\": [[0.0, \"#0d0887\"], [0.1111111111111111, \"#46039f\"], [0.2222222222222222, \"#7201a8\"], [0.3333333333333333, \"#9c179e\"], [0.4444444444444444, \"#bd3786\"], [0.5555555555555556, \"#d8576b\"], [0.6666666666666666, \"#ed7953\"], [0.7777777777777778, \"#fb9f3a\"], [0.8888888888888888, \"#fdca26\"], [1.0, \"#f0f921\"]], \"sequentialminus\": [[0.0, \"#0d0887\"], [0.1111111111111111, \"#46039f\"], [0.2222222222222222, \"#7201a8\"], [0.3333333333333333, \"#9c179e\"], [0.4444444444444444, \"#bd3786\"], [0.5555555555555556, \"#d8576b\"], [0.6666666666666666, \"#ed7953\"], [0.7777777777777778, \"#fb9f3a\"], [0.8888888888888888, \"#fdca26\"], [1.0, \"#f0f921\"]]}, \"colorway\": [\"#636efa\", \"#EF553B\", \"#00cc96\", \"#ab63fa\", \"#FFA15A\", \"#19d3f3\", \"#FF6692\", \"#B6E880\", \"#FF97FF\", \"#FECB52\"], \"font\": {\"color\": \"#2a3f5f\"}, \"geo\": {\"bgcolor\": \"white\", \"lakecolor\": \"white\", \"landcolor\": \"#E5ECF6\", \"showlakes\": true, \"showland\": true, \"subunitcolor\": \"white\"}, \"hoverlabel\": {\"align\": \"left\"}, \"hovermode\": \"closest\", \"mapbox\": {\"style\": \"light\"}, \"paper_bgcolor\": \"white\", \"plot_bgcolor\": \"#E5ECF6\", \"polar\": {\"angularaxis\": {\"gridcolor\": \"white\", \"linecolor\": \"white\", \"ticks\": \"\"}, \"bgcolor\": \"#E5ECF6\", \"radialaxis\": {\"gridcolor\": \"white\", \"linecolor\": \"white\", \"ticks\": \"\"}}, \"scene\": {\"xaxis\": {\"backgroundcolor\": \"#E5ECF6\", \"gridcolor\": \"white\", \"gridwidth\": 2, \"linecolor\": \"white\", \"showbackground\": true, \"ticks\": \"\", \"zerolinecolor\": \"white\"}, \"yaxis\": {\"backgroundcolor\": \"#E5ECF6\", \"gridcolor\": \"white\", \"gridwidth\": 2, \"linecolor\": \"white\", \"showbackground\": true, \"ticks\": \"\", \"zerolinecolor\": \"white\"}, \"zaxis\": {\"backgroundcolor\": \"#E5ECF6\", \"gridcolor\": \"white\", \"gridwidth\": 2, \"linecolor\": \"white\", \"showbackground\": true, \"ticks\": \"\", \"zerolinecolor\": \"white\"}}, \"shapedefaults\": {\"line\": {\"color\": \"#2a3f5f\"}}, \"ternary\": {\"aaxis\": {\"gridcolor\": \"white\", \"linecolor\": \"white\", \"ticks\": \"\"}, \"baxis\": {\"gridcolor\": \"white\", \"linecolor\": \"white\", \"ticks\": \"\"}, \"bgcolor\": \"#E5ECF6\", \"caxis\": {\"gridcolor\": \"white\", \"linecolor\": \"white\", \"ticks\": \"\"}}, \"title\": {\"x\": 0.05}, \"xaxis\": {\"automargin\": true, \"gridcolor\": \"white\", \"linecolor\": \"white\", \"ticks\": \"\", \"title\": {\"standoff\": 15}, \"zerolinecolor\": \"white\", \"zerolinewidth\": 2}, \"yaxis\": {\"automargin\": true, \"gridcolor\": \"white\", \"linecolor\": \"white\", \"ticks\": \"\", \"title\": {\"standoff\": 15}, \"zerolinecolor\": \"white\", \"zerolinewidth\": 2}}}},\n",
       "                        {\"responsive\": true}\n",
       "                    ).then(function(){\n",
       "                            \n",
       "var gd = document.getElementById('3562e8fc-c986-4cb0-b95c-71c2a49b23c5');\n",
       "var x = new MutationObserver(function (mutations, observer) {{\n",
       "        var display = window.getComputedStyle(gd).display;\n",
       "        if (!display || display === 'none') {{\n",
       "            console.log([gd, 'removed!']);\n",
       "            Plotly.purge(gd);\n",
       "            observer.disconnect();\n",
       "        }}\n",
       "}});\n",
       "\n",
       "// Listen for the removal of the full notebook cells\n",
       "var notebookContainer = gd.closest('#notebook-container');\n",
       "if (notebookContainer) {{\n",
       "    x.observe(notebookContainer, {childList: true});\n",
       "}}\n",
       "\n",
       "// Listen for the clearing of the current output cell\n",
       "var outputEl = gd.closest('.output');\n",
       "if (outputEl) {{\n",
       "    x.observe(outputEl, {childList: true});\n",
       "}}\n",
       "\n",
       "                        })\n",
       "                };\n",
       "                });\n",
       "            </script>\n",
       "        </div>"
      ]
     },
     "metadata": {},
     "output_type": "display_data"
    }
   ],
   "source": [
    "# A tree map for different sectors with their relative change since COVID19\n",
    "# line graphs with actual trend for the indices\n",
    "\n",
    "fig = px.treemap(percent, \n",
    "                 path=['Sector'], \n",
    "                 values='Percent',\n",
    "                 #color='change_yoy'\n",
    "                 color='drop_covid'\n",
    "                )\n",
    "fig.show()"
   ]
  },
  {
   "cell_type": "code",
   "execution_count": null,
   "metadata": {},
   "outputs": [],
   "source": [
    "# A map with pie charts for each country, where the size of the pie indicates number of vaccine ordered. separated by different companies \n",
    "# each country is shaded by income level"
   ]
  },
  {
   "cell_type": "code",
   "execution_count": null,
   "metadata": {},
   "outputs": [],
   "source": [
    "# 1. Bar chart indicating different vaccine companies, bars = {stock price, distributed doses}\n",
    "# 2. More details in time series. Line graph indicating stock price with bars indicating trading volume."
   ]
  },
  {
   "cell_type": "code",
   "execution_count": null,
   "metadata": {},
   "outputs": [],
   "source": [
    "# Recovery: business condidence index\n",
    "# policy"
   ]
  },
  {
   "cell_type": "code",
   "execution_count": 6,
   "metadata": {},
   "outputs": [],
   "source": [
    "import pandas as pd\n",
    "import plotly.graph_objs as go\n",
    "import dash\n",
    "import dash_core_components as dcc\n",
    "import dash_html_components as html\n",
    "import plotly.express as px\n",
    "from dash.dependencies import Input, Output, State"
   ]
  },
  {
   "cell_type": "code",
   "execution_count": 14,
   "metadata": {},
   "outputs": [],
   "source": [
    "percent = pd.read_csv('percent_sector.csv')\n",
    "SNP = pd.read_csv('SNP.csv')\n",
    "vaccine_stock = pd.read_csv('vaccine_stock.csv')"
   ]
  },
  {
   "cell_type": "code",
   "execution_count": 2,
   "metadata": {},
   "outputs": [
    {
     "name": "stdout",
     "output_type": "stream",
     "text": [
      "Dash is running on http://127.0.0.1:8050/\n",
      "\n",
      "Dash is running on http://127.0.0.1:8050/\n",
      "\n",
      " * Serving Flask app \"__main__\" (lazy loading)\n",
      " * Environment: production\n",
      "   WARNING: This is a development server. Do not use it in a production deployment.\n",
      "   Use a production WSGI server instead.\n",
      " * Debug mode: off\n"
     ]
    },
    {
     "name": "stderr",
     "output_type": "stream",
     "text": [
      " * Running on http://127.0.0.1:8050/ (Press CTRL+C to quit)\n",
      "127.0.0.1 - - [24/Jan/2021 16:32:21] \"\u001b[37mGET / HTTP/1.1\u001b[0m\" 200 -\n",
      "127.0.0.1 - - [24/Jan/2021 16:32:22] \"\u001b[37mGET /_dash-layout HTTP/1.1\u001b[0m\" 200 -\n",
      "127.0.0.1 - - [24/Jan/2021 16:32:22] \"\u001b[37mGET /_dash-dependencies HTTP/1.1\u001b[0m\" 200 -\n",
      "127.0.0.1 - - [24/Jan/2021 16:32:22] \"\u001b[37mGET /_dash-component-suites/dash_core_components/async-dropdown.v1_15_0m1611086576.js HTTP/1.1\u001b[0m\" 200 -\n",
      "127.0.0.1 - - [24/Jan/2021 16:32:22] \"\u001b[37mGET /_dash-component-suites/dash_core_components/async-slider.v1_15_0m1611086576.js HTTP/1.1\u001b[0m\" 200 -\n"
     ]
    }
   ],
   "source": [
    "app = dash.Dash(__name__, external_stylesheets=external_stylesheets)\n",
    "\n",
    "app.layout = html.Div([\n",
    "    html.Label('Dropdown'),\n",
    "    dcc.Dropdown(\n",
    "        options=[\n",
    "            {'label': 'New York City', 'value': 'NYC'},\n",
    "            {'label': u'Montréal', 'value': 'MTL'},\n",
    "            {'label': 'San Francisco', 'value': 'SF'}\n",
    "        ],\n",
    "        value='MTL'\n",
    "    ),\n",
    "\n",
    "    html.Label('Multi-Select Dropdown'),\n",
    "    dcc.Dropdown(\n",
    "        options=[\n",
    "            {'label': 'New York City', 'value': 'NYC'},\n",
    "            {'label': u'Montréal', 'value': 'MTL'},\n",
    "            {'label': 'San Francisco', 'value': 'SF'}\n",
    "        ],\n",
    "        value=['MTL', 'SF'],\n",
    "        multi=True\n",
    "    ),\n",
    "\n",
    "    html.Label('Radio Items'),\n",
    "    dcc.RadioItems(\n",
    "        options=[\n",
    "            {'label': 'New York City', 'value': 'NYC'},\n",
    "            {'label': u'Montréal', 'value': 'MTL'},\n",
    "            {'label': 'San Francisco', 'value': 'SF'}\n",
    "        ],\n",
    "        value='MTL'\n",
    "    ),\n",
    "\n",
    "    html.Label('Checkboxes'),\n",
    "    dcc.Checklist(\n",
    "        options=[\n",
    "            {'label': 'New York City', 'value': 'NYC'},\n",
    "            {'label': u'Montréal', 'value': 'MTL'},\n",
    "            {'label': 'San Francisco', 'value': 'SF'}\n",
    "        ],\n",
    "        value=['MTL', 'SF']\n",
    "    ),\n",
    "\n",
    "    html.Label('Text Input'),\n",
    "    dcc.Input(value='MTL', type='text'),\n",
    "\n",
    "    html.Label('Slider'),\n",
    "    dcc.Slider(\n",
    "        min=0,\n",
    "        max=9,\n",
    "        marks={i: 'Label {}'.format(i) if i == 1 else str(i) for i in range(1, 6)},\n",
    "        value=5,\n",
    "    ),\n",
    "], style={'columnCount': 2})\n",
    "\n",
    "if __name__ == '__main__':\n",
    "    app.run_server(debug=False)"
   ]
  },
  {
   "cell_type": "code",
   "execution_count": 127,
   "metadata": {},
   "outputs": [
    {
     "name": "stdout",
     "output_type": "stream",
     "text": [
      "Dash is running on http://127.0.0.1:8000/\n",
      "\n",
      "Dash is running on http://127.0.0.1:8000/\n",
      "\n",
      "Dash is running on http://127.0.0.1:8000/\n",
      "\n",
      "Dash is running on http://127.0.0.1:8000/\n",
      "\n",
      "Dash is running on http://127.0.0.1:8000/\n",
      "\n",
      "Dash is running on http://127.0.0.1:8000/\n",
      "\n",
      "Dash is running on http://127.0.0.1:8000/\n",
      "\n",
      "Dash is running on http://127.0.0.1:8000/\n",
      "\n",
      "Dash is running on http://127.0.0.1:8000/\n",
      "\n",
      "Dash is running on http://127.0.0.1:8000/\n",
      "\n",
      "Dash is running on http://127.0.0.1:8000/\n",
      "\n",
      "Dash is running on http://127.0.0.1:8000/\n",
      "\n",
      "Dash is running on http://127.0.0.1:8000/\n",
      "\n",
      "Dash is running on http://127.0.0.1:8000/\n",
      "\n",
      "Dash is running on http://127.0.0.1:8000/\n",
      "\n",
      "Dash is running on http://127.0.0.1:8000/\n",
      "\n",
      "Dash is running on http://127.0.0.1:8000/\n",
      "\n",
      "Dash is running on http://127.0.0.1:8000/\n",
      "\n",
      "Dash is running on http://127.0.0.1:8000/\n",
      "\n",
      "Dash is running on http://127.0.0.1:8000/\n",
      "\n",
      "Dash is running on http://127.0.0.1:8000/\n",
      "\n",
      "Dash is running on http://127.0.0.1:8000/\n",
      "\n",
      "Dash is running on http://127.0.0.1:8000/\n",
      "\n",
      "Dash is running on http://127.0.0.1:8000/\n",
      "\n",
      "Dash is running on http://127.0.0.1:8000/\n",
      "\n",
      "Dash is running on http://127.0.0.1:8000/\n",
      "\n",
      "Dash is running on http://127.0.0.1:8000/\n",
      "\n",
      "Dash is running on http://127.0.0.1:8000/\n",
      "\n",
      "Dash is running on http://127.0.0.1:8000/\n",
      "\n",
      "Dash is running on http://127.0.0.1:8000/\n",
      "\n",
      "Dash is running on http://127.0.0.1:8000/\n",
      "\n",
      "Dash is running on http://127.0.0.1:8000/\n",
      "\n",
      "Dash is running on http://127.0.0.1:8000/\n",
      "\n",
      "Dash is running on http://127.0.0.1:8000/\n",
      "\n",
      "Dash is running on http://127.0.0.1:8000/\n",
      "\n",
      "Dash is running on http://127.0.0.1:8000/\n",
      "\n",
      "Dash is running on http://127.0.0.1:8000/\n",
      "\n",
      "Dash is running on http://127.0.0.1:8000/\n",
      "\n",
      "Dash is running on http://127.0.0.1:8000/\n",
      "\n",
      " * Serving Flask app \"__main__\" (lazy loading)\n",
      " * Environment: production\n",
      "   WARNING: This is a development server. Do not use it in a production deployment.\n",
      "   Use a production WSGI server instead.\n",
      " * Debug mode: on\n"
     ]
    }
   ],
   "source": [
    "# Dash\n",
    "def get_stock(tab):\n",
    "    if tab == 'finance':\n",
    "        opts = [{'label': s, 'value': v} for v, s in sectors.items()]\n",
    "        val = 'SPY'\n",
    "    elif tab == 'vaccine':\n",
    "        opts = [{'label': s, 'value': v} for v, s in vaccines.items()]\n",
    "        val = 'AZN'\n",
    "    return html.Div([\n",
    "        dcc.Dropdown(id=tab+'_stock_dropdown', options=opts, value=val),\n",
    "        dcc.Graph(id=tab+'_stock_graph')\n",
    "    ])\n",
    "\n",
    "def get_treemaps():\n",
    "    return html.Div([\n",
    "        html.Div([html.H4('Treemaps of Sectors, YoY% vs. COVID-19 Impact%')],\n",
    "                 style={'width':'90%','margin':'auto',\n",
    "                        'text-align':'center'}),\n",
    "        html.Div(get_treemap('yoy'),\n",
    "                 style={'width':'50%','display': 'inline-block',\n",
    "                        'vertical-align':'top'}),\n",
    "        html.Div(get_treemap('covid'),\n",
    "                 style={'width':'50%','display': 'inline-block',\n",
    "                        'vertical-align':'top'})\n",
    "    ])\n",
    "\n",
    "def get_treemap(s):\n",
    "    if s == 'yoy':\n",
    "        col = 'change_yoy'\n",
    "        txt = \"Treemaps of Sectors with YoY change%\"\n",
    "    elif s == 'covid':\n",
    "        col = 'drop_covid'\n",
    "        txt = \"Treemaps of Sectors with COVID-19 impact%\"\n",
    "        \n",
    "    fig = px.treemap(percent, path=['Sector'], values='Percent',\n",
    "                     color=col, color_continuous_scale=[\"red\",\"green\"], range_color=[-0.8,0.8])\n",
    "    \n",
    "    return html.Div([\n",
    "        html.Br(),\n",
    "        html.H6(txt),\n",
    "        dcc.Graph(figure=fig)\n",
    "    ])\n",
    "\n",
    "def get_map():\n",
    "    fig = px.scatter_geo(vaccine_country, locations=\"country\", locationmode = 'country names',\n",
    "                         hover_name=\"country\", size=\"doses\",\n",
    "                         projection=\"natural earth\")\n",
    "    return html.Div([\n",
    "        html.Br(),\n",
    "        html.H6(\"Vaccine Orders by Country\"),\n",
    "        dcc.Graph(figure=fig)\n",
    "    ])\n",
    "\n",
    "def get_bar():\n",
    "    fig = px.bar(vaccine_brand, x='brand', y='doses')\n",
    "    return html.Div([\n",
    "        html.Br(),\n",
    "        html.H6(\"Vaccine Orders by Company\"),\n",
    "        dcc.Graph(figure=fig)\n",
    "    ])\n",
    "\n",
    "\n",
    "# Dash set up\n",
    "app = dash.Dash()\n",
    "\n",
    "# Base Layout\n",
    "app.layout = html.Div([\n",
    "    dcc.Tabs(id='dashboard-tabs', value='finance-tab',children=[\n",
    "        # Tab 1: social factors\n",
    "        #dcc.Tab(label='Social Factors', value='social-tab',children=[\n",
    "            # div 1: number of death\n",
    "        #]),\n",
    "        # Tab 2: financial / economic factors\n",
    "        dcc.Tab(label='Financial / Economic Factors', value='finance-tab',children=[\n",
    "            # div 1: summary statistics: unemployement rate, GDP\n",
    "            # div 2: stock prices line graph\n",
    "            html.Div(get_stock('finance'),style={'width':'90%','margin':'auto'}),\n",
    "            # div 3: Sector Treemap\n",
    "            html.Div(get_treemaps(),style={'width':'90%','margin':'auto'})\n",
    "        ]),\n",
    "        # Tab 3: vaccine information\n",
    "        dcc.Tab(label='Vaccine Information', value='vaccine-tab',children=[\n",
    "            # div 1: vaccine stock price line graphs\n",
    "            html.Div(get_stock('vaccine'),style={'width':'90%','margin':'auto'}),\n",
    "            # div 2: vaccine distribution bar\n",
    "            html.Div(get_bar(),style={'width':'90%','margin':'auto'}),\n",
    "            # div 3: vaccine distribution map\n",
    "            html.Div(get_map(),style={'width':'90%','margin':'auto'})\n",
    "        ])\n",
    "    ])\n",
    "])\n",
    "\n",
    "\n",
    "@app.callback(\n",
    "    Output('finance_stock_graph', 'figure'),\n",
    "    Input('finance_stock_dropdown', 'value'))\n",
    "def update_figure(stock):\n",
    "    mydf = SNP\n",
    "    df = mydf.loc[mydf['symbol'] == stock]\n",
    "\n",
    "    fig = go.Figure(data=[go.Candlestick(x=df['Date'],\n",
    "                open=df['Open'], high=df['High'],\n",
    "                low=df['Low'], close=df['Close'])\n",
    "                     ])\n",
    "    fig.update_layout(xaxis_rangeslider_visible=False)\n",
    "\n",
    "    return fig\n",
    "\n",
    "@app.callback(\n",
    "    Output('vaccine_stock_graph', 'figure'),\n",
    "    Input('vaccine_stock_dropdown', 'value'))\n",
    "def update_figure(stock):\n",
    "    mydf = vaccine_stock\n",
    "    df = mydf.loc[mydf['symbol'] == stock]\n",
    "\n",
    "    fig = go.Figure(data=[go.Candlestick(x=df['Date'],\n",
    "                open=df['Open'], high=df['High'],\n",
    "                low=df['Low'], close=df['Close'])\n",
    "                     ])\n",
    "    fig.update_layout(xaxis_rangeslider_visible=False)\n",
    "\n",
    "    return fig\n",
    "\n",
    "\n",
    "\n",
    "sectors = {'SPY': 'S&P500', 'XLK': 'Information Technology', 'XLY': 'Consumer Discretionary', 'XLB': 'Materials',\n",
    "           'XLC': 'Communication Services', 'XLV': 'Health Care', 'XLI': 'Industrials', 'XLP': 'Consumer Staples', \n",
    "           'XLF': 'Financial Services', 'XLU': 'Utilities', 'XLRE': 'Real Estate', 'XLE': 'Energy'}\n",
    "vaccines = {'AZN': 'AstraZeneca', 'PFE': 'Pfizer', 'JNJ': 'Johnson & Johnson', 'MRNA': 'Moderna', 'NVAX': 'Novavax'}\n",
    "\n",
    "if __name__ == '__main__':\n",
    "    app.run_server(debug=True, use_reloader=False, port=8000)"
   ]
  },
  {
   "cell_type": "code",
   "execution_count": null,
   "metadata": {},
   "outputs": [],
   "source": []
  }
 ],
 "metadata": {
  "kernelspec": {
   "display_name": "Python 3",
   "language": "python",
   "name": "python3"
  },
  "language_info": {
   "codemirror_mode": {
    "name": "ipython",
    "version": 3
   },
   "file_extension": ".py",
   "mimetype": "text/x-python",
   "name": "python",
   "nbconvert_exporter": "python",
   "pygments_lexer": "ipython3",
   "version": "3.7.4"
  }
 },
 "nbformat": 4,
 "nbformat_minor": 2
}
