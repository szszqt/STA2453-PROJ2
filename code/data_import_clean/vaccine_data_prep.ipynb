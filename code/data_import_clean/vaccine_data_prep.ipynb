{
 "cells": [
  {
   "cell_type": "code",
   "execution_count": 8,
   "metadata": {},
   "outputs": [],
   "source": [
    "import yfinance as yf\n",
    "from pandas_datareader import data as dt\n",
    "import numpy as np\n",
    "import pandas as pd"
   ]
  },
  {
   "cell_type": "code",
   "execution_count": 9,
   "metadata": {},
   "outputs": [
    {
     "name": "stdout",
     "output_type": "stream",
     "text": [
      "[*********************100%***********************]  1 of 1 completed\n",
      "[*********************100%***********************]  1 of 1 completed\n",
      "[*********************100%***********************]  1 of 1 completed\n",
      "[*********************100%***********************]  1 of 1 completed\n",
      "[*********************100%***********************]  1 of 1 completed\n",
      "[*********************100%***********************]  1 of 1 completed\n",
      "[*********************100%***********************]  1 of 1 completed\n",
      "[*********************100%***********************]  1 of 1 completed\n",
      "[*********************100%***********************]  1 of 1 completed\n",
      "[*********************100%***********************]  1 of 1 completed\n",
      "[*********************100%***********************]  1 of 1 completed\n",
      "[*********************100%***********************]  1 of 1 completed\n"
     ]
    }
   ],
   "source": [
    "# Data 1: import stock market data - S&P and sectors ETF\n",
    "yf.pdr_override() \n",
    "\n",
    "# using different ETF to represents market indices by sector\n",
    "sectors = {'SPY': 'S&P500', 'XLK': 'Information Technology', 'XLY': 'Consumer Discretionary', 'XLB': 'Materials',\n",
    "           'XLC': 'Communication Services', 'XLV': 'Health Care', 'XLI': 'Industrials', 'XLP': 'Consumer Staples', \n",
    "           'XLF': 'Financial Services', 'XLU': 'Utilities', 'XLRE': 'Real Estate', 'XLE': 'Energy'}\n",
    "symbols = sectors.keys()\n",
    "data_source ='google'\n",
    "start_date = '2019-01-01'\n",
    "end_date = '2020-12-31'\n",
    "\n",
    "appended_data = []\n",
    "for symbol in sectors:\n",
    "    data = dt.get_data_yahoo(symbol, start_date, end_date)\n",
    "    data['symbol'] = symbol\n",
    "    data['sector'] = sectors[symbol]\n",
    "    appended_data.append(data)\n",
    "SNP = pd.concat(appended_data)\n",
    "SNP['Date'] = SNP.index"
   ]
  },
  {
   "cell_type": "code",
   "execution_count": 10,
   "metadata": {},
   "outputs": [],
   "source": [
    "# Data 2: Market shares of different sectors\n",
    "# data source: https://advisor.visualcapitalist.com/sp-500-sectors-and-industries/\n",
    "# the website has forbidden server access, hence the data is manually pulled and stored in csv\n",
    "percent = pd.read_csv('./../../data/raw/percent_sector.csv')\n",
    "\n",
    "# prepare the YoY price change for the sector ETF\n",
    "# starting time: 2020-01-02\n",
    "# ending time: end of year 2020-12-30\n",
    "# drop during COVID: (min-max)/max price during 2020-01-01 - 2020-03-31\n",
    "snp_soy = SNP[SNP['Date'] == '2020-01-02']\n",
    "snp_eoy = SNP[SNP['Date'] == '2020-12-30']\n",
    "percent = percent.merge(snp_soy[['Close','sector']], how = 'left', left_on = 'Sector', right_on = 'sector')\n",
    "percent = percent.rename(columns={\"Close\": \"price_soy\"})\n",
    "percent = percent.merge(snp_eoy[['Close','sector']], how = 'left', left_on = 'Sector', right_on = 'sector')\n",
    "percent = percent.rename(columns={\"Close\": \"price_eoy\"})\n",
    "percent['change_yoy'] = (percent['price_eoy']-percent['price_soy'])/percent['price_soy']\n",
    "\n",
    "snp_covid = SNP.loc[(SNP['Date'] <= '2020-03-31') & (SNP['Date'] >= '2020-01-01')]\n",
    "snp_covid_max = snp_covid.groupby(['sector'], as_index=False).max()\n",
    "snp_covid_min = snp_covid.groupby(['sector'], as_index=False).min()\n",
    "percent = percent.merge(snp_covid_max[['Close','sector']], how = 'left', left_on = 'Sector', right_on = 'sector')\n",
    "percent = percent.rename(columns={\"Close\": \"price_max\"})\n",
    "percent = percent.merge(snp_covid_min[['Close','sector']], how = 'left', left_on = 'Sector', right_on = 'sector')\n",
    "percent = percent.rename(columns={\"Close\": \"price_min\"})\n",
    "percent['drop_covid'] = (percent['price_min']-percent['price_max'])/percent['price_max']\n",
    "\n",
    "percent = percent[['Sector', 'Percent', 'price_soy', 'price_eoy', 'change_yoy', 'price_max', 'price_min', 'drop_covid']]"
   ]
  },
  {
   "cell_type": "code",
   "execution_count": 11,
   "metadata": {},
   "outputs": [
    {
     "name": "stdout",
     "output_type": "stream",
     "text": [
      "[*********************100%***********************]  1 of 1 completed\n",
      "[*********************100%***********************]  1 of 1 completed\n",
      "[*********************100%***********************]  1 of 1 completed\n",
      "[*********************100%***********************]  1 of 1 completed\n",
      "[*********************100%***********************]  1 of 1 completed\n"
     ]
    }
   ],
   "source": [
    "# Data 3: AstraZeneca (AZN), Pfizer (PFE), Johnson & Johnson (JNJ), Moderna (MRNA), Novavax (NVAX) Stock price\n",
    "yf.pdr_override() \n",
    "\n",
    "companies = {'AZN': 'AstraZeneca', 'PFE': 'Pfizer', 'JNJ': 'Johnson & Johnson', 'MRNA': 'Moderna', 'NVAX': 'Novavax'}\n",
    "vaccine_symbols = companies.keys()\n",
    "data_source='google'\n",
    "start_date = '2019-01-01'\n",
    "end_date = '2020-12-31'\n",
    "\n",
    "vaccine = []\n",
    "for symbol in companies:\n",
    "    data = dt.get_data_yahoo(symbol, start_date, end_date)\n",
    "    data['symbol'] = symbol\n",
    "    data['sector'] = companies[symbol]\n",
    "    vaccine.append(data)\n",
    "vaccine_stock = pd.concat(vaccine)"
   ]
  },
  {
   "cell_type": "code",
   "execution_count": 12,
   "metadata": {},
   "outputs": [
    {
     "name": "stderr",
     "output_type": "stream",
     "text": [
      "C:\\Users\\tiger\\Anaconda3\\lib\\site-packages\\ipykernel_launcher.py:21: SettingWithCopyWarning:\n",
      "\n",
      "\n",
      "A value is trying to be set on a copy of a slice from a DataFrame.\n",
      "Try using .loc[row_indexer,col_indexer] = value instead\n",
      "\n",
      "See the caveats in the documentation: http://pandas.pydata.org/pandas-docs/stable/user_guide/indexing.html#returning-a-view-versus-a-copy\n",
      "\n",
      "C:\\Users\\tiger\\Anaconda3\\lib\\site-packages\\ipykernel_launcher.py:22: SettingWithCopyWarning:\n",
      "\n",
      "\n",
      "A value is trying to be set on a copy of a slice from a DataFrame.\n",
      "Try using .loc[row_indexer,col_indexer] = value instead\n",
      "\n",
      "See the caveats in the documentation: http://pandas.pydata.org/pandas-docs/stable/user_guide/indexing.html#returning-a-view-versus-a-copy\n",
      "\n"
     ]
    }
   ],
   "source": [
    "# Data 4. Vaccine order data\n",
    "# data source: https://launchandscalefaster.org/covid-19#Interactive%20tables%20and%20charts%20-%20COVID-19%20Vaccine%20Advance%20Market%20Commitments\n",
    "# by looking at the html, found the source public Tableau dashboard and download the data from there\n",
    "# Tableau view: https://public.tableau.com/views/COVID-19VaccinePurchase_16099487574570/TotalConfirmedDosesbyCountryandVaccineCandidate?:embed=y&:showVizHome=no&:host_url=https%3A%2F%2Fpublic.tableau.com%2F&:embed_code_version=3&:tabs=yes&:toolbar=yes&:animate_transition=yes&:display_static_image=no&:display_spinner=no&:display_overlay=yes&:display_count=yes&:language=en&publish=yes&:loadOrderID=1\n",
    "\n",
    "vaccine_purchase_all = pd.read_csv('./../../data/raw/purchasing_deals.csv')\n",
    "vaccine_purchase = vaccine_purchase_all[['Company','Partners','Purchaser Entity / Country', \"Purchaser's country Economic  Status\",\n",
    "                                         'Number of Doses Procured']]\n",
    "\n",
    "conditions = [\n",
    "    (vaccine_purchase['Partners'] == 'AstraZeneca'),\n",
    "    (vaccine_purchase['Company'] == 'Pfizer'),\n",
    "    (vaccine_purchase['Company'] == 'Moderna'),\n",
    "    (vaccine_purchase['Company'] == 'Janssen (J&J)'),\n",
    "    (vaccine_purchase['Company'] == 'Novavax')\n",
    "    ]\n",
    "\n",
    "values_stock = ['AZN', 'PFE', 'MARNA', 'JNJ', 'NVAX']\n",
    "values_brand = ['AstraZeneca', 'Pfizer', 'Moderna', 'Johnson & Johnson', 'Novavax']\n",
    "\n",
    "vaccine_purchase['stock'] = np.select(conditions, values_stock, default='Other')\n",
    "vaccine_purchase['brand'] = np.select(conditions, values_brand, default='Other')\n",
    "\n",
    "vaccine_purchase = vaccine_purchase.rename(columns={'Purchaser Entity / Country': \"country\", \n",
    "                                                    \"Purchaser's country Economic  Status\": \"economic status\",\n",
    "                                                    \"Number of Doses Procured\": \"doses\"})\n",
    "\n",
    "vaccine_country = vaccine_purchase.groupby('country', as_index=False).sum()\n",
    "vaccine_brand = vaccine_purchase.groupby('brand', as_index=False).sum()"
   ]
  },
  {
   "cell_type": "code",
   "execution_count": 13,
   "metadata": {},
   "outputs": [],
   "source": [
    "SNP.to_csv('./../../data/clean/SNP.csv')\n",
    "percent.to_csv('./../../data/clean/percent_sector.csv')\n",
    "vaccine_stock.to_csv('./../../data/clean/vaccine_stock.csv')\n",
    "vaccine_brand.to_csv('./../../data/clean/vaccine_brand.csv')\n",
    "vaccine_country.to_csv('./../../data/clean/vaccine_country.csv')"
   ]
  },
  {
   "cell_type": "code",
   "execution_count": 14,
   "metadata": {},
   "outputs": [],
   "source": [
    "# in app code, there should be following import code:\n",
    "percent = pd.read_csv('./../../data/clean/percent_sector.csv')\n",
    "SNP = pd.read_csv('./../../data/clean/SNP.csv')\n",
    "vaccine_stock = pd.read_csv('./../../data/clean/vaccine_stock.csv')\n",
    "vaccine_brand = pd.read_csv('./../../data/clean/vaccine_brand.csv')\n",
    "vaccine_country = pd.read_csv('./../../data/clean/vaccine_country.csv')"
   ]
  }
 ],
 "metadata": {
  "kernelspec": {
   "display_name": "Python 3",
   "language": "python",
   "name": "python3"
  },
  "language_info": {
   "codemirror_mode": {
    "name": "ipython",
    "version": 3
   },
   "file_extension": ".py",
   "mimetype": "text/x-python",
   "name": "python",
   "nbconvert_exporter": "python",
   "pygments_lexer": "ipython3",
   "version": "3.7.4"
  }
 },
 "nbformat": 4,
 "nbformat_minor": 2
}