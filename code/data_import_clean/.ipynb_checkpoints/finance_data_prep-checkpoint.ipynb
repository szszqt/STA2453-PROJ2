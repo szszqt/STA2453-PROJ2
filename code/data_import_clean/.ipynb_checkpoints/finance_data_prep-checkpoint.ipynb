{
 "cells": [
  {
   "cell_type": "markdown",
   "metadata": {},
   "source": [
    "# Gettting Additional Relevant ETFs/Economic Indicators"
   ]
  },
  {
   "cell_type": "markdown",
   "metadata": {},
   "source": [
    "Visualization ideas:\n",
    "- Could label some key events on relevant visualizations (i.e.: when vaccine was announced, death tolls, capitol insurrection, etc)\n",
    "- Autocorrelation plots\n",
    "- Show open/close on a single line plot with a bar. Volume traded could be represented by size of the bar (or by a histogram below the line plot)"
   ]
  },
  {
   "cell_type": "code",
   "execution_count": 2,
   "metadata": {
    "collapsed": false
   },
   "outputs": [],
   "source": [
    "import yfinance as yf\n",
    "from pandas_datareader import data as dt\n",
    "import numpy as np\n",
    "import pandas as pd\n",
    "import quandl\n",
    "import matplotlib.pyplot as plt"
   ]
  },
  {
   "cell_type": "code",
   "execution_count": 3,
   "metadata": {
    "collapsed": false
   },
   "outputs": [
    {
     "name": "stdout",
     "output_type": "stream",
     "text": [
      "[*********************100%***********************]  1 of 1 completed\n",
      "[*********************100%***********************]  1 of 1 completed\n",
      "[*********************100%***********************]  1 of 1 completed\n",
      "[*********************100%***********************]  1 of 1 completed\n",
      "[*********************100%***********************]  1 of 1 completed\n",
      "[*********************100%***********************]  1 of 1 completed\n",
      "[*********************100%***********************]  1 of 1 completed\n",
      "[*********************100%***********************]  1 of 1 completed\n",
      "[*********************100%***********************]  1 of 1 completed\n",
      "[*********************100%***********************]  1 of 1 completed\n",
      "[*********************100%***********************]  1 of 1 completed\n",
      "[*********************100%***********************]  1 of 1 completed\n",
      "[*********************100%***********************]  1 of 1 completed\n",
      "[*********************100%***********************]  1 of 1 completed\n",
      "[*********************100%***********************]  1 of 1 completed\n",
      "[*********************100%***********************]  1 of 1 completed\n",
      "[*********************100%***********************]  1 of 1 completed\n"
     ]
    }
   ],
   "source": [
    "yf.pdr_override()\n",
    "sectors = {'^DJI': 'Dow Jones Industrial Avg', '^IXIC': 'NASDAQ Composite', 'NFLX': 'Netflix Inc', 'PTON': 'Peloton Interactive Inc', \\\n",
    "           'GRUB': 'GrubHub Inc', 'TDOC': 'Teladoc Health Inc', 'AMZN': 'Amazon.com, Inc', 'ZM': 'Zoom Video Communications Inc', \\\n",
    "           'DAL': 'Delta Air Lines Inc', 'AAL': 'American Airlines Group Inc', 'UAL': 'United Airlines Holdings Inc', \\\n",
    "           'LUV': 'Southwest Airlines Inc', 'HLT': 'Hilton Hotels Corporation Common Stock', 'MAR': 'Marriott International Inc', \\\n",
    "           'H': 'Hyatt Hotels Corporation', 'WMT': 'Walmart Inc', 'COST': 'Costco Wholesale Corporation'}\n",
    "\n",
    "symbols = sectors.keys()\n",
    "data_source='google'\n",
    "start_date = '2019-01-01'\n",
    "end_date = '2020-12-31'\n",
    "\n",
    "appended_data = []\n",
    "for symbol in sectors:\n",
    "    data = dt.get_data_yahoo(symbol, start_date, end_date)\n",
    "    data['symbol'] = symbol\n",
    "    data['sector'] = sectors[symbol]\n",
    "    appended_data.append(data)\n",
    "dat = pd.concat(appended_data)\n",
    "dat.to_csv('./../../data/clean/data_sectors.csv')"
   ]
  },
  {
   "cell_type": "markdown",
   "metadata": {},
   "source": [
    "## Economic Indicators"
   ]
  },
  {
   "cell_type": "code",
   "execution_count": 4,
   "metadata": {
    "collapsed": true
   },
   "outputs": [],
   "source": [
    "quandl.ApiConfig.api_key = 'L5gtQB2bT1iDSG8SWiy_'"
   ]
  },
  {
   "cell_type": "markdown",
   "metadata": {},
   "source": [
    "Unemployment"
   ]
  },
  {
   "cell_type": "code",
   "execution_count": 5,
   "metadata": {
    "collapsed": false
   },
   "outputs": [],
   "source": [
    "df_unemp = quandl.get([\"FRED/UNRATE\", \"FRED/LNS14000003\", \"FRED/LNS14000006\", \\\n",
    "                 \"FRED/LNS14000009\", \"FRED/LNU04032183\"], \\\n",
    "                trim_start=start_date, trim_end=end_date)\n",
    "df_unemp.columns = ['Unemployment', 'Unemp_White', 'Unemp_Black', 'Unemp_Hispanic','Unemp_Asian']"
   ]
  },
  {
   "cell_type": "code",
   "execution_count": 6,
   "metadata": {
    "collapsed": true
   },
   "outputs": [],
   "source": [
    "df_unemp.to_csv('./../../data/clean/unemployment.csv')"
   ]
  },
  {
   "cell_type": "code",
   "execution_count": 7,
   "metadata": {
    "collapsed": true
   },
   "outputs": [],
   "source": [
    "start_date = '2019-01-01'\n",
    "end_date = '2020-12-31'"
   ]
  },
  {
   "cell_type": "markdown",
   "metadata": {},
   "source": [
    "Monetary Base"
   ]
  },
  {
   "cell_type": "code",
   "execution_count": 8,
   "metadata": {
    "collapsed": false
   },
   "outputs": [],
   "source": [
    "df_mb = quandl.get('FRED/BOGMBASE', trim_start=start_date, trim_end=end_date)"
   ]
  },
  {
   "cell_type": "code",
   "execution_count": 9,
   "metadata": {
    "collapsed": false
   },
   "outputs": [
    {
     "data": {
      "image/png": "[encoded data removed]",
      "text/plain": [
       "<Figure size 432x288 with 1 Axes>"
      ]
     },
     "metadata": {},
     "output_type": "display_data"
    }
   ],
   "source": [
    "df_mb.plot.line()\n",
    "plt.show()"
   ]
  },
  {
   "cell_type": "code",
   "execution_count": 10,
   "metadata": {
    "collapsed": false
   },
   "outputs": [],
   "source": [
    "df_mb.to_csv('./../../data/clean/monetary_base.csv')"
   ]
  },
  {
   "cell_type": "code",
   "execution_count": 11,
   "metadata": {
    "collapsed": true
   },
   "outputs": [],
   "source": [
    "df_gdp = quandl.get('FRED/GDP', trim_start=start_date, trim_end=end_date)"
   ]
  },
  {
   "cell_type": "code",
   "execution_count": 12,
   "metadata": {
    "collapsed": true
   },
   "outputs": [],
   "source": [
    "df_gdp.to_csv('./../../data/clean/GDP.csv')"
   ]
  },
  {
   "cell_type": "markdown",
   "metadata": {},
   "source": [
    "Yield Curve / Interest Rates downloaded directly from Quandl since API is not free"
   ]
  },
  {
   "cell_type": "code",
   "execution_count": 13,
   "metadata": {
    "collapsed": false
   },
   "outputs": [],
   "source": [
    "df_yc = pd.read_csv('./../../data/clean/USTREASURY-YIELD.csv')\n",
    "df_interest_rates = pd.read_csv('./../../data/clean/FRED-IR3MTBIlL.csv')"
   ]
  },
  {
   "cell_type": "code",
   "execution_count": null,
   "metadata": {
    "collapsed": true
   },
   "outputs": [],
   "source": []
  }
 ],
 "metadata": {
  "kernelspec": {
   "display_name": "Python 3",
   "language": "python",
   "name": "python3"
  },
  "language_info": {
   "codemirror_mode": {
    "name": "ipython",
    "version": 3
   },
   "file_extension": ".py",
   "mimetype": "text/x-python",
   "name": "python",
   "nbconvert_exporter": "python",
   "pygments_lexer": "ipython3",
   "version": "3.6.8"
  }
 },
 "nbformat": 4,
 "nbformat_minor": 2
}
