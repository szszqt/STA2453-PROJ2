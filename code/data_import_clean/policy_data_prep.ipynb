{
 "cells": [
  {
   "cell_type": "code",
   "execution_count": 1,
   "metadata": {},
   "outputs": [],
   "source": [
    "import pandas as pd \n",
    "import numpy as np\n",
    "import matplotlib.pyplot as plt \n",
    "import datetime\n",
    "\n",
    "plt.rcParams[\"figure.figsize\"] = (20,10)"
   ]
  },
  {
   "cell_type": "markdown",
   "metadata": {},
   "source": [
    "## Policy data by State"
   ]
  },
  {
   "cell_type": "markdown",
   "metadata": {},
   "source": [
    "#### Data 1: Load and preprocess the policy data "
   ]
  },
  {
   "cell_type": "code",
   "execution_count": 5,
   "metadata": {},
   "outputs": [],
   "source": [
    "state_df = pd.read_csv('./../../data/raw/state_policies.csv')"
   ]
  },
  {
   "cell_type": "code",
   "execution_count": 6,
   "metadata": {},
   "outputs": [
    {
     "data": {
      "text/html": [
       "<div>\n",
       "<style scoped>\n",
       "    .dataframe tbody tr th:only-of-type {\n",
       "        vertical-align: middle;\n",
       "    }\n",
       "\n",
       "    .dataframe tbody tr th {\n",
       "        vertical-align: top;\n",
       "    }\n",
       "\n",
       "    .dataframe thead th {\n",
       "        text-align: right;\n",
       "    }\n",
       "</style>\n",
       "<table border=\"1\" class=\"dataframe\">\n",
       "  <thead>\n",
       "    <tr style=\"text-align: right;\">\n",
       "      <th></th>\n",
       "      <th>state_id</th>\n",
       "      <th>county</th>\n",
       "      <th>fips_code</th>\n",
       "      <th>policy_level</th>\n",
       "      <th>date</th>\n",
       "      <th>policy_type</th>\n",
       "      <th>start_stop</th>\n",
       "      <th>comments</th>\n",
       "      <th>source</th>\n",
       "      <th>total_phases</th>\n",
       "    </tr>\n",
       "  </thead>\n",
       "  <tbody>\n",
       "    <tr>\n",
       "      <th>0</th>\n",
       "      <td>HI</td>\n",
       "      <td>NaN</td>\n",
       "      <td>NaN</td>\n",
       "      <td>state</td>\n",
       "      <td>2020-05-18</td>\n",
       "      <td>Manufacturing</td>\n",
       "      <td>start</td>\n",
       "      <td>Policy_Details: Open with adjusted \"Safe Pract...</td>\n",
       "      <td>sip_submission_form: https://governor.hawaii.g...</td>\n",
       "      <td>NaN</td>\n",
       "    </tr>\n",
       "    <tr>\n",
       "      <th>1</th>\n",
       "      <td>TX</td>\n",
       "      <td>Kinney</td>\n",
       "      <td>48271.0</td>\n",
       "      <td>county</td>\n",
       "      <td>2020-07-03</td>\n",
       "      <td>Mask Requirement</td>\n",
       "      <td>start</td>\n",
       "      <td>Policy_Details: County is approved to be exemp...</td>\n",
       "      <td>sip_submission_form: https://tdem.texas.gov/ga...</td>\n",
       "      <td>NaN</td>\n",
       "    </tr>\n",
       "    <tr>\n",
       "      <th>2</th>\n",
       "      <td>ID</td>\n",
       "      <td>Custer</td>\n",
       "      <td>16037.0</td>\n",
       "      <td>county</td>\n",
       "      <td>2020-10-27</td>\n",
       "      <td>Phase 3</td>\n",
       "      <td>start</td>\n",
       "      <td>Policy_Details: No greater than 50 people at i...</td>\n",
       "      <td>sip_submission_form: https://coronavirus.idaho...</td>\n",
       "      <td>4.0</td>\n",
       "    </tr>\n",
       "    <tr>\n",
       "      <th>3</th>\n",
       "      <td>UT</td>\n",
       "      <td>Wayne</td>\n",
       "      <td>49055.0</td>\n",
       "      <td>county</td>\n",
       "      <td>2020-11-24</td>\n",
       "      <td>Phase 1</td>\n",
       "      <td>start</td>\n",
       "      <td>Policy_Details: Restrictions for highest level...</td>\n",
       "      <td>sip_submission_form: https://coronavirus.utah....</td>\n",
       "      <td>3.0</td>\n",
       "    </tr>\n",
       "    <tr>\n",
       "      <th>4</th>\n",
       "      <td>TX</td>\n",
       "      <td>Borden</td>\n",
       "      <td>48033.0</td>\n",
       "      <td>county</td>\n",
       "      <td>2020-07-03</td>\n",
       "      <td>Mask Requirement</td>\n",
       "      <td>start</td>\n",
       "      <td>Policy_Details: County is approved to be exemp...</td>\n",
       "      <td>sip_submission_form: https://tdem.texas.gov/ga...</td>\n",
       "      <td>NaN</td>\n",
       "    </tr>\n",
       "  </tbody>\n",
       "</table>\n",
       "</div>"
      ],
      "text/plain": [
       "  state_id  county  fips_code policy_level        date       policy_type  \\\n",
       "0       HI     NaN        NaN        state  2020-05-18     Manufacturing   \n",
       "1       TX  Kinney    48271.0       county  2020-07-03  Mask Requirement   \n",
       "2       ID  Custer    16037.0       county  2020-10-27           Phase 3   \n",
       "3       UT   Wayne    49055.0       county  2020-11-24           Phase 1   \n",
       "4       TX  Borden    48033.0       county  2020-07-03  Mask Requirement   \n",
       "\n",
       "  start_stop                                           comments  \\\n",
       "0      start  Policy_Details: Open with adjusted \"Safe Pract...   \n",
       "1      start  Policy_Details: County is approved to be exemp...   \n",
       "2      start  Policy_Details: No greater than 50 people at i...   \n",
       "3      start  Policy_Details: Restrictions for highest level...   \n",
       "4      start  Policy_Details: County is approved to be exemp...   \n",
       "\n",
       "                                              source  total_phases  \n",
       "0  sip_submission_form: https://governor.hawaii.g...           NaN  \n",
       "1  sip_submission_form: https://tdem.texas.gov/ga...           NaN  \n",
       "2  sip_submission_form: https://coronavirus.idaho...           4.0  \n",
       "3  sip_submission_form: https://coronavirus.utah....           3.0  \n",
       "4  sip_submission_form: https://tdem.texas.gov/ga...           NaN  "
      ]
     },
     "execution_count": 6,
     "metadata": {},
     "output_type": "execute_result"
    }
   ],
   "source": [
    "state_df.head()"
   ]
  },
  {
   "cell_type": "code",
   "execution_count": 7,
   "metadata": {},
   "outputs": [],
   "source": [
    "state_df = state_df[state_df['policy_level']=='state'] # primarily will concern with state level policies"
   ]
  },
  {
   "cell_type": "code",
   "execution_count": 8,
   "metadata": {},
   "outputs": [],
   "source": [
    "state_df = state_df.drop(columns=['county', 'fips_code', 'source', 'policy_level'])"
   ]
  },
  {
   "cell_type": "code",
   "execution_count": 9,
   "metadata": {},
   "outputs": [],
   "source": [
    "state_df['date'] = state_df['date'].apply(lambda x: datetime.datetime.strptime(x, '%Y-%m-%d').date())"
   ]
  },
  {
   "cell_type": "code",
   "execution_count": 10,
   "metadata": {},
   "outputs": [],
   "source": [
    "state_df['state'] = state_df['state_id']"
   ]
  },
  {
   "cell_type": "code",
   "execution_count": 62,
   "metadata": {},
   "outputs": [],
   "source": [
    "state_df.to_csv('cleaned_state_policies.csv')"
   ]
  },
  {
   "cell_type": "markdown",
   "metadata": {},
   "source": [
    "## Feature data by state"
   ]
  },
  {
   "cell_type": "markdown",
   "metadata": {},
   "source": [
    "#### Data 2: Load and preprocess state feature data"
   ]
  },
  {
   "cell_type": "code",
   "execution_count": 12,
   "metadata": {},
   "outputs": [],
   "source": [
    "state_hist = pd.read_csv('./../../data/raw/state_history.csv')"
   ]
  },
  {
   "cell_type": "code",
   "execution_count": 13,
   "metadata": {},
   "outputs": [],
   "source": [
    "state_hist['date'] = state_hist['date'].apply(lambda x: datetime.datetime.strptime(x, '%Y-%m-%d').date())"
   ]
  },
  {
   "cell_type": "code",
   "execution_count": 14,
   "metadata": {},
   "outputs": [],
   "source": [
    "# For the features, we have selected the data from states that have a data grade of A+, A, B; this means that the data is \n",
    "# validated and they report daily or alternately."
   ]
  },
  {
   "cell_type": "markdown",
   "metadata": {},
   "source": [
    "Information on grades  :  https://docs.google.com/spreadsheets/u/1/d/e/2PACX-1vRL2zG1o-qj9l2sl19d1lj1oHd6WbkJ0ukFwN04a_ms_ANUdgxTMpI7AF-gbQzwOSreJUDx6PEK7Vnq/pubhtml"
   ]
  },
  {
   "cell_type": "code",
   "execution_count": 15,
   "metadata": {},
   "outputs": [
    {
     "data": {
      "text/plain": [
       "1306"
      ]
     },
     "execution_count": 15,
     "metadata": {},
     "output_type": "execute_result"
    }
   ],
   "source": [
    "state_hist['dataQualityGrade'].isnull().sum()"
   ]
  },
  {
   "cell_type": "code",
   "execution_count": 16,
   "metadata": {},
   "outputs": [],
   "source": [
    "state_hist = state_hist.dropna(subset=['dataQualityGrade'])"
   ]
  },
  {
   "cell_type": "code",
   "execution_count": 17,
   "metadata": {},
   "outputs": [
    {
     "data": {
      "text/plain": [
       "array(['A', 'A+', 'B', 'D', 'C', '#REF!', 'F'], dtype=object)"
      ]
     },
     "execution_count": 17,
     "metadata": {},
     "output_type": "execute_result"
    }
   ],
   "source": [
    "state_hist['dataQualityGrade'].unique()"
   ]
  },
  {
   "cell_type": "code",
   "execution_count": 18,
   "metadata": {},
   "outputs": [
    {
     "data": {
      "text/plain": [
       "A+       5675\n",
       "A        4795\n",
       "B        4304\n",
       "C        1096\n",
       "D         700\n",
       "F          32\n",
       "#REF!       6\n",
       "Name: dataQualityGrade, dtype: int64"
      ]
     },
     "execution_count": 18,
     "metadata": {},
     "output_type": "execute_result"
    }
   ],
   "source": [
    "state_hist['dataQualityGrade'].value_counts()"
   ]
  },
  {
   "cell_type": "code",
   "execution_count": 19,
   "metadata": {},
   "outputs": [],
   "source": [
    "state_hist = state_hist[state_hist['dataQualityGrade']!='C']\n",
    "state_hist = state_hist[state_hist['dataQualityGrade']!='D']\n",
    "state_hist = state_hist[state_hist['dataQualityGrade']!='F']\n",
    "state_hist = state_hist[state_hist['dataQualityGrade']!='#REF!']"
   ]
  },
  {
   "cell_type": "code",
   "execution_count": 20,
   "metadata": {},
   "outputs": [],
   "source": [
    "state_hist = state_hist.drop(columns=['dataQualityGrade', 'death', 'deathConfirmed', 'deathProbable', 'hospitalized', 'hospitalizedCumulative',\n",
    "                        'hospitalizedCurrently', 'inIcuCumulative', 'negative', 'negativeTestsAntibody', 'negativeTestsPeopleAntibody',\n",
    "                        'negativeTestsViral', 'onVentilatorCumulative', 'positive', 'positiveCasesViral', 'positiveScore',\n",
    "                        'positiveTestsAntibody', 'positiveTestsAntigen', 'positiveTestsPeopleAntibody', 'positiveTestsPeopleAntigen',\n",
    "                        'positiveTestsViral', 'recovered'])"
   ]
  },
  {
   "cell_type": "code",
   "execution_count": 21,
   "metadata": {},
   "outputs": [],
   "source": [
    "state_hist = state_hist.drop(columns=['totalTestEncountersViral', 'totalTestEncountersViralIncrease', 'totalTestResults',\n",
    "                                     'totalTestResultsIncrease', 'totalTestsAntibody', 'totalTestsAntigen',\n",
    "                                     'totalTestsPeopleAntibody', 'totalTestsPeopleAntigen', 'totalTestsPeopleViral', 'totalTestsPeopleViralIncrease',\n",
    "                                     'totalTestsViral', 'totalTestsViralIncrease'])"
   ]
  },
  {
   "cell_type": "code",
   "execution_count": 22,
   "metadata": {},
   "outputs": [],
   "source": [
    "state_hist = state_hist.fillna(0)"
   ]
  },
  {
   "cell_type": "code",
   "execution_count": 23,
   "metadata": {},
   "outputs": [],
   "source": [
    "state_hist.to_csv('cleaned_state_data.csv')"
   ]
  },
  {
   "cell_type": "markdown",
   "metadata": {},
   "source": [
    "### Get relevant features and policies"
   ]
  },
  {
   "cell_type": "code",
   "execution_count": 26,
   "metadata": {},
   "outputs": [],
   "source": [
    "# load state data \n",
    "state_data = pd.read_csv('./../../data/cleaned_state_data.csv')\n",
    "# convert dates to datetime object\n",
    "state_data.date = state_data.date.apply(lambda x: datetime.datetime.strptime(x, '%d-%m-%Y'))\n",
    "\n",
    "# load policy data\n",
    "state_policy = pd.read_csv('./../../data/cleaned_state_policies.csv')\n",
    "# convert the dates to datetime object\n",
    "state_policy.date = state_policy.date.apply(lambda x: datetime.datetime.strptime(x, '%d-%m-%Y'))\n",
    "state_policy = state_policy.drop(columns=['Unnamed: 0'])\n",
    "\n",
    "# define all policy_types to consider\n",
    "# convert all the policies to lowercase\n",
    "for i in range(len(state_policy.index)):\n",
    "    state_policy.at[i, 'policy_type'] = state_policy.at[i, 'policy_type'].lower()\n",
    "selected_policies = ['manufacturing', 'entertainment', 'non-essential businesses', 'outdoor and recreation', 'shelter in place', 'travel', 'phase 1', 'phase 2', 'phase 3', 'phase 4']\n",
    "state_policy = state_policy[state_policy['policy_type'].isin(selected_policies)]\n",
    "\n",
    "state_data.to_csv('./../../data/clean/features.csv', index=False)\n",
    "state_policy.to_csv('./../../data/clean/policies.csv', index=False)"
   ]
  },
  {
   "cell_type": "code",
   "execution_count": null,
   "metadata": {},
   "outputs": [],
   "source": []
  }
 ],
 "metadata": {
  "kernelspec": {
   "display_name": "Python 3",
   "language": "python",
   "name": "python3"
  },
  "language_info": {
   "codemirror_mode": {
    "name": "ipython",
    "version": 3
   },
   "file_extension": ".py",
   "mimetype": "text/x-python",
   "name": "python",
   "nbconvert_exporter": "python",
   "pygments_lexer": "ipython3",
   "version": "3.7.7"
  }
 },
 "nbformat": 4,
 "nbformat_minor": 4
}
