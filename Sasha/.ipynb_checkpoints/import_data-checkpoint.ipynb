{
 "cells": [
  {
   "cell_type": "markdown",
   "metadata": {},
   "source": [
    "# Gettting Additional Relevant ETFs/Economic Indicators"
   ]
  },
  {
   "cell_type": "markdown",
   "metadata": {},
   "source": [
    "Visualization ideas:\n",
    "- Could label some key events on relevant visualizations (i.e.: when vaccine was announced, death tolls, capitol insurrection, etc)\n",
    "- Autocorrelation plots\n",
    "- Show open/close on a single line plot with a bar. Volume traded could be represented by size of the bar (or by a histogram below the line plot)"
   ]
  },
  {
   "cell_type": "code",
   "execution_count": 2,
   "metadata": {
    "collapsed": false
   },
   "outputs": [],
   "source": [
    "import yfinance as yf\n",
    "from pandas_datareader import data as dt\n",
    "import numpy as np\n",
    "import pandas as pd\n",
    "import quandl\n",
    "import matplotlib.pyplot as plt"
   ]
  },
  {
   "cell_type": "code",
   "execution_count": 39,
   "metadata": {
    "collapsed": false
   },
   "outputs": [
    {
     "name": "stdout",
     "output_type": "stream",
     "text": [
      "[*********************100%***********************]  1 of 1 completed\n",
      "[*********************100%***********************]  1 of 1 completed\n",
      "[*********************100%***********************]  1 of 1 completed\n",
      "[*********************100%***********************]  1 of 1 completed\n",
      "[*********************100%***********************]  1 of 1 completed\n",
      "[*********************100%***********************]  1 of 1 completed\n",
      "[*********************100%***********************]  1 of 1 completed\n",
      "[*********************100%***********************]  1 of 1 completed\n",
      "[*********************100%***********************]  1 of 1 completed\n",
      "[*********************100%***********************]  1 of 1 completed\n",
      "[*********************100%***********************]  1 of 1 completed\n",
      "[*********************100%***********************]  1 of 1 completed\n",
      "[*********************100%***********************]  1 of 1 completed\n",
      "[*********************100%***********************]  1 of 1 completed\n",
      "[*********************100%***********************]  1 of 1 completed\n",
      "[*********************100%***********************]  1 of 1 completed\n",
      "[*********************100%***********************]  1 of 1 completed\n"
     ]
    }
   ],
   "source": [
    "yf.pdr_override()\n",
    "sectors = {'^DJI': 'Dow Jones Industrial Avg', '^IXIC': 'NASDAQ Composite', 'NFLX': 'Netflix Inc', 'PTON': 'Peloton Interactive Inc', \\\n",
    "           'GRUB': 'GrubHub Inc', 'TDOC': 'Teladoc Health Inc', 'AMZN': 'Amazon.com, Inc', 'ZM': 'Zoom Video Communications Inc', \\\n",
    "           'DAL': 'Delta Air Lines Inc', 'AAL': 'American Airlines Group Inc', 'UAL': 'United Airlines Holdings Inc', \\\n",
    "           'LUV': 'Southwest Airlines Inc', 'HLT': 'Hilton Hotels Corporation Common Stock', 'MAR': 'Marriott International Inc', \\\n",
    "           'H': 'Hyatt Hotels Corporation', 'WMT': 'Walmart Inc', 'COST': 'Costco Wholesale Corporation'}\n",
    "\n",
    "symbols = sectors.keys()\n",
    "data_source='google'\n",
    "start_date = '2019-01-01'\n",
    "end_date = '2020-12-31'\n",
    "\n",
    "appended_data = []\n",
    "for symbol in sectors:\n",
    "    data = dt.get_data_yahoo(symbol, start_date, end_date)\n",
    "    data['symbol'] = symbol\n",
    "    data['sector'] = sectors[symbol]\n",
    "    appended_data.append(data)\n",
    "dat = pd.concat(appended_data)\n",
    "dat.to_csv('data_sectors.csv')"
   ]
  },
  {
   "cell_type": "markdown",
   "metadata": {},
   "source": [
    "## Economic Indicators"
   ]
  },
  {
   "cell_type": "code",
   "execution_count": 3,
   "metadata": {
    "collapsed": true
   },
   "outputs": [],
   "source": [
    "quandl.ApiConfig.api_key = 'L5gtQB2bT1iDSG8SWiy_'"
   ]
  },
  {
   "cell_type": "markdown",
   "metadata": {},
   "source": [
    "Unemployment"
   ]
  },
  {
   "cell_type": "code",
   "execution_count": 4,
   "metadata": {
    "collapsed": false
   },
   "outputs": [
    {
     "ename": "NameError",
     "evalue": "name 'start_date' is not defined",
     "output_type": "error",
     "traceback": [
      "\u001b[0;31m---------------------------------------------------------------------------\u001b[0m",
      "\u001b[0;31mNameError\u001b[0m                                 Traceback (most recent call last)",
      "\u001b[0;32m<ipython-input-4-e20a93ea9998>\u001b[0m in \u001b[0;36m<module>\u001b[0;34m()\u001b[0m\n\u001b[0;32m----> 1\u001b[0;31m \u001b[0mdf_unemp\u001b[0m \u001b[0;34m=\u001b[0m \u001b[0mquandl\u001b[0m\u001b[0;34m.\u001b[0m\u001b[0mget\u001b[0m\u001b[0;34m(\u001b[0m\u001b[0;34m[\u001b[0m\u001b[0;34m\"FRED/UNRATE\"\u001b[0m\u001b[0;34m,\u001b[0m \u001b[0;34m\"FRED/LNS14000003\"\u001b[0m\u001b[0;34m,\u001b[0m \u001b[0;34m\"FRED/LNS14000006\"\u001b[0m\u001b[0;34m,\u001b[0m                  \u001b[0;34m\"FRED/LNS14000009\"\u001b[0m\u001b[0;34m,\u001b[0m \u001b[0;34m\"FRED/LNU04032183\"\u001b[0m\u001b[0;34m]\u001b[0m\u001b[0;34m,\u001b[0m                 \u001b[0mtrim_start\u001b[0m\u001b[0;34m=\u001b[0m\u001b[0mstart_date\u001b[0m\u001b[0;34m,\u001b[0m \u001b[0mtrim_end\u001b[0m\u001b[0;34m=\u001b[0m\u001b[0mend_date\u001b[0m\u001b[0;34m)\u001b[0m\u001b[0;34m\u001b[0m\u001b[0;34m\u001b[0m\u001b[0m\n\u001b[0m\u001b[1;32m      2\u001b[0m \u001b[0mdf_unemp\u001b[0m\u001b[0;34m.\u001b[0m\u001b[0mcolumns\u001b[0m \u001b[0;34m=\u001b[0m \u001b[0;34m[\u001b[0m\u001b[0;34m'Unemployment'\u001b[0m\u001b[0;34m,\u001b[0m \u001b[0;34m'Unemp_White'\u001b[0m\u001b[0;34m,\u001b[0m \u001b[0;34m'Unemp_Black'\u001b[0m\u001b[0;34m,\u001b[0m \u001b[0;34m'Unemp_Hispanic'\u001b[0m\u001b[0;34m,\u001b[0m\u001b[0;34m'Unemp_Asian'\u001b[0m\u001b[0;34m]\u001b[0m\u001b[0;34m\u001b[0m\u001b[0;34m\u001b[0m\u001b[0m\n",
      "\u001b[0;31mNameError\u001b[0m: name 'start_date' is not defined"
     ]
    }
   ],
   "source": [
    "df_unemp = quandl.get([\"FRED/UNRATE\", \"FRED/LNS14000003\", \"FRED/LNS14000006\", \\\n",
    "                 \"FRED/LNS14000009\", \"FRED/LNU04032183\"], \\\n",
    "                trim_start=start_date, trim_end=end_date)\n",
    "df_unemp.columns = ['Unemployment', 'Unemp_White', 'Unemp_Black', 'Unemp_Hispanic','Unemp_Asian']"
   ]
  },
  {
   "cell_type": "code",
   "execution_count": 53,
   "metadata": {
    "collapsed": false
   },
   "outputs": [],
   "source": [
    "df_unemp.to_csv('unemployment.csv')"
   ]
  },
  {
   "cell_type": "markdown",
   "metadata": {},
   "source": [
    "Monetary Base"
   ]
  },
  {
   "cell_type": "code",
   "execution_count": 5,
   "metadata": {
    "collapsed": false
   },
   "outputs": [
    {
     "ename": "NameError",
     "evalue": "name 'start_date' is not defined",
     "output_type": "error",
     "traceback": [
      "\u001b[0;31m---------------------------------------------------------------------------\u001b[0m",
      "\u001b[0;31mNameError\u001b[0m                                 Traceback (most recent call last)",
      "\u001b[0;32m<ipython-input-5-e1858573a37a>\u001b[0m in \u001b[0;36m<module>\u001b[0;34m()\u001b[0m\n\u001b[0;32m----> 1\u001b[0;31m \u001b[0mdf_mb\u001b[0m \u001b[0;34m=\u001b[0m \u001b[0mquandl\u001b[0m\u001b[0;34m.\u001b[0m\u001b[0mget\u001b[0m\u001b[0;34m(\u001b[0m\u001b[0;34m'FRED/BOGMBASE'\u001b[0m\u001b[0;34m,\u001b[0m \u001b[0mtrim_start\u001b[0m\u001b[0;34m=\u001b[0m\u001b[0mstart_date\u001b[0m\u001b[0;34m,\u001b[0m \u001b[0mtrim_end\u001b[0m\u001b[0;34m=\u001b[0m\u001b[0mend_date\u001b[0m\u001b[0;34m)\u001b[0m\u001b[0;34m\u001b[0m\u001b[0;34m\u001b[0m\u001b[0m\n\u001b[0m",
      "\u001b[0;31mNameError\u001b[0m: name 'start_date' is not defined"
     ]
    }
   ],
   "source": [
    "df_mb = quandl.get('FRED/BOGMBASE', trim_start=start_date, trim_end=end_date)"
   ]
  },
  {
   "cell_type": "code",
   "execution_count": 65,
   "metadata": {
    "collapsed": false
   },
   "outputs": [
    {
     "data": {
      "image/png": "[encoded data removed]",
      "text/plain": [
       "<Figure size 432x288 with 1 Axes>"
      ]
     },
     "metadata": {},
     "output_type": "display_data"
    }
   ],
   "source": [
    "df_mb.plot.line()\n",
    "plt.show()"
   ]
  },
  {
   "cell_type": "markdown",
   "metadata": {},
   "source": [
    "Yield Curve / Interest Rates downloaded directly from Quandl since API is not free"
   ]
  },
  {
   "cell_type": "code",
   "execution_count": 74,
   "metadata": {
    "collapsed": false
   },
   "outputs": [],
   "source": [
    "df_yc = pd.read_csv('./data/USTREASURY-YIELD.csv')\n",
    "df_interest_rates = pd.read_csv('./data/FRED-IR3MTBIlL.csv')"
   ]
  }
 ],
 "metadata": {
  "kernelspec": {
   "display_name": "Python 3",
   "language": "python",
   "name": "python3"
  },
  "language_info": {
   "codemirror_mode": {
    "name": "ipython",
    "version": 3
   },
   "file_extension": ".py",
   "mimetype": "text/x-python",
   "name": "python",
   "nbconvert_exporter": "python",
   "pygments_lexer": "ipython3",
   "version": "3.6.8"
  }
 },
 "nbformat": 4,
 "nbformat_minor": 2
}
